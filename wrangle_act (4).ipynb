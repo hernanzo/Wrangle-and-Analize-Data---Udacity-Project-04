{
 "cells": [
  {
   "cell_type": "code",
   "execution_count": 3,
   "metadata": {},
   "outputs": [],
   "source": [
    "import tweepy\n",
    "from tweepy import OAuthHandler\n",
    "import json\n",
    "from timeit import default_timer as tm\n",
    "import time\n",
    "import os\n",
    "import datetime\n",
    "import string\n",
    "import matplotlib.pyplot as plt\n",
    "import math\n",
    "import seaborn as sns\n",
    "import pandas as pd\n",
    "import numpy as np\n",
    "import requests"
   ]
  },
  {
   "cell_type": "markdown",
   "metadata": {},
   "source": [
    "#  Data Gathering: getting the data from Twitter\n"
   ]
  },
  {
   "cell_type": "markdown",
   "metadata": {},
   "source": [
    "> 1. The WeRateDogs Twitter archive. I am giving this file to you, so imagine it as a file on hand. Download this file manually by clicking the following link:"
   ]
  },
  {
   "cell_type": "code",
   "execution_count": 2,
   "metadata": {},
   "outputs": [],
   "source": [
    "# Import file with twitter posts as a pandas dataframe\n",
    "archive_tw = pd.read_csv('twitter-archive-enhanced.csv')"
   ]
  },
  {
   "cell_type": "code",
   "execution_count": 4,
   "metadata": {},
   "outputs": [
    {
     "data": {
      "text/plain": [
       "(2356, 17)"
      ]
     },
     "execution_count": 4,
     "metadata": {},
     "output_type": "execute_result"
    }
   ],
   "source": [
    "archive_tw.shape"
   ]
  },
  {
   "cell_type": "markdown",
   "metadata": {},
   "source": [
    ">2. The tweet image predictions, i.e., what breed of dog (or other object, animal, etc.) is present in each tweet according to a neural network. This file (image_predictions.tsv) is hosted on Udacity's servers and should be downloaded programmatically using the Requests library and the following URL: https://d17h27t6h515a5.cloudfront.net/topher/2017/August/599fd2ad_image-predictions/image-predictions.tsv"
   ]
  },
  {
   "cell_type": "code",
   "execution_count": 5,
   "metadata": {},
   "outputs": [],
   "source": [
    "\n",
    "# Programatically download the datafile with breed predictions based on the tweet's image from a URL to insure reproducibility\n",
    "url = 'https://d17h27t6h515a5.cloudfront.net/topher/2017/August/599fd2ad_image-predictions/image-predictions.tsv'\n",
    "r = requests.get(url)\n",
    "with open ('image-predictions.tsv', mode = 'wb') as file: \n",
    "    file.write(r.content)\n"
   ]
  },
  {
   "cell_type": "code",
   "execution_count": 6,
   "metadata": {},
   "outputs": [],
   "source": [
    "predic = pd.read_csv('image-predictions.tsv', sep='\\t')"
   ]
  },
  {
   "cell_type": "code",
   "execution_count": 7,
   "metadata": {},
   "outputs": [
    {
     "data": {
      "text/html": [
       "<div>\n",
       "<style scoped>\n",
       "    .dataframe tbody tr th:only-of-type {\n",
       "        vertical-align: middle;\n",
       "    }\n",
       "\n",
       "    .dataframe tbody tr th {\n",
       "        vertical-align: top;\n",
       "    }\n",
       "\n",
       "    .dataframe thead th {\n",
       "        text-align: right;\n",
       "    }\n",
       "</style>\n",
       "<table border=\"1\" class=\"dataframe\">\n",
       "  <thead>\n",
       "    <tr style=\"text-align: right;\">\n",
       "      <th></th>\n",
       "      <th>tweet_id</th>\n",
       "      <th>jpg_url</th>\n",
       "      <th>img_num</th>\n",
       "      <th>p1</th>\n",
       "      <th>p1_conf</th>\n",
       "      <th>p1_dog</th>\n",
       "      <th>p2</th>\n",
       "      <th>p2_conf</th>\n",
       "      <th>p2_dog</th>\n",
       "      <th>p3</th>\n",
       "      <th>p3_conf</th>\n",
       "      <th>p3_dog</th>\n",
       "    </tr>\n",
       "  </thead>\n",
       "  <tbody>\n",
       "    <tr>\n",
       "      <th>0</th>\n",
       "      <td>666020888022790149</td>\n",
       "      <td>https://pbs.twimg.com/media/CT4udn0WwAA0aMy.jpg</td>\n",
       "      <td>1</td>\n",
       "      <td>Welsh_springer_spaniel</td>\n",
       "      <td>0.465074</td>\n",
       "      <td>True</td>\n",
       "      <td>collie</td>\n",
       "      <td>0.156665</td>\n",
       "      <td>True</td>\n",
       "      <td>Shetland_sheepdog</td>\n",
       "      <td>0.061428</td>\n",
       "      <td>True</td>\n",
       "    </tr>\n",
       "    <tr>\n",
       "      <th>1</th>\n",
       "      <td>666029285002620928</td>\n",
       "      <td>https://pbs.twimg.com/media/CT42GRgUYAA5iDo.jpg</td>\n",
       "      <td>1</td>\n",
       "      <td>redbone</td>\n",
       "      <td>0.506826</td>\n",
       "      <td>True</td>\n",
       "      <td>miniature_pinscher</td>\n",
       "      <td>0.074192</td>\n",
       "      <td>True</td>\n",
       "      <td>Rhodesian_ridgeback</td>\n",
       "      <td>0.072010</td>\n",
       "      <td>True</td>\n",
       "    </tr>\n",
       "  </tbody>\n",
       "</table>\n",
       "</div>"
      ],
      "text/plain": [
       "             tweet_id                                          jpg_url  \\\n",
       "0  666020888022790149  https://pbs.twimg.com/media/CT4udn0WwAA0aMy.jpg   \n",
       "1  666029285002620928  https://pbs.twimg.com/media/CT42GRgUYAA5iDo.jpg   \n",
       "\n",
       "   img_num                      p1   p1_conf  p1_dog                  p2  \\\n",
       "0        1  Welsh_springer_spaniel  0.465074    True              collie   \n",
       "1        1                 redbone  0.506826    True  miniature_pinscher   \n",
       "\n",
       "    p2_conf  p2_dog                   p3   p3_conf  p3_dog  \n",
       "0  0.156665    True    Shetland_sheepdog  0.061428    True  \n",
       "1  0.074192    True  Rhodesian_ridgeback  0.072010    True  "
      ]
     },
     "execution_count": 7,
     "metadata": {},
     "output_type": "execute_result"
    }
   ],
   "source": [
    "predic.head(2)"
   ]
  },
  {
   "cell_type": "code",
   "execution_count": 8,
   "metadata": {},
   "outputs": [
    {
     "data": {
      "text/plain": [
       "(2075, 12)"
      ]
     },
     "execution_count": 8,
     "metadata": {},
     "output_type": "execute_result"
    }
   ],
   "source": [
    "predic.shape"
   ]
  },
  {
   "cell_type": "markdown",
   "metadata": {},
   "source": [
    "> 3. Each tweet's retweet count and favorite (\"like\") count at minimum, and any additional data you find interesting. Using the tweet IDs in the WeRateDogs Twitter archive, query the Twitter API for each tweet's JSON data using Python's Tweepy library and store each tweet's entire set of JSON data in a file called tweet_json.txt file. Each tweet's JSON data should be written to its own line. Then read this .txt file line by line into a pandas DataFrame with (at minimum) tweet ID, retweet count, and favorite count. Note: do not include your Twitter API keys, secrets, and tokens in your project submission."
   ]
  },
  {
   "cell_type": "code",
   "execution_count": 13,
   "metadata": {},
   "outputs": [],
   "source": [
    "import tweepy \n",
    "\n",
    "api_key = 'HIDDEN'\n",
    "api_secret = 'HIDDEN'\n",
    "access_token = 'HIDDEN'\n",
    "access_secret = 'HIDDEN'\n",
    "\n",
    "auth = tweepy.OAuthHandler(api_key, api_secret)\n",
    "auth.set_access_token(access_token, access_secret)\n",
    "\n",
    "api = tweepy.API(auth, wait_on_rate_limit = True, wait_on_rate_limit_notify=True)"
   ]
  },
  {
   "cell_type": "code",
   "execution_count": 14,
   "metadata": {},
   "outputs": [],
   "source": [
    "# get tweet status\n",
    "tweets = api.get_status(archive.tweet_id[7], tweet_mode='extended')"
   ]
  },
  {
   "cell_type": "code",
   "execution_count": 15,
   "metadata": {},
   "outputs": [
    {
     "data": {
      "text/plain": [
       "{'created_at': 'Fri Jul 28 00:22:40 +0000 2017',\n",
       " 'id': 890729181411237888,\n",
       " 'id_str': '890729181411237888',\n",
       " 'full_text': \"When you watch your owner call another dog a good boy but then they turn back to you and say you're a great boy. 13/10 https://t.co/v0nONBcwxq\",\n",
       " 'truncated': False,\n",
       " 'display_text_range': [0, 118],\n",
       " 'entities': {'hashtags': [],\n",
       "  'symbols': [],\n",
       "  'user_mentions': [],\n",
       "  'urls': [],\n",
       "  'media': [{'id': 890729118844600320,\n",
       "    'id_str': '890729118844600320',\n",
       "    'indices': [119, 142],\n",
       "    'media_url': 'http://pbs.twimg.com/media/DFyBag_UQAAhhBC.jpg',\n",
       "    'media_url_https': 'https://pbs.twimg.com/media/DFyBag_UQAAhhBC.jpg',\n",
       "    'url': 'https://t.co/v0nONBcwxq',\n",
       "    'display_url': 'pic.twitter.com/v0nONBcwxq',\n",
       "    'expanded_url': 'https://twitter.com/dog_rates/status/890729181411237888/photo/1',\n",
       "    'type': 'photo',\n",
       "    'sizes': {'thumb': {'w': 150, 'h': 150, 'resize': 'crop'},\n",
       "     'large': {'w': 1200, 'h': 1328, 'resize': 'fit'},\n",
       "     'medium': {'w': 1084, 'h': 1200, 'resize': 'fit'},\n",
       "     'small': {'w': 614, 'h': 680, 'resize': 'fit'}}}]},\n",
       " 'extended_entities': {'media': [{'id': 890729118844600320,\n",
       "    'id_str': '890729118844600320',\n",
       "    'indices': [119, 142],\n",
       "    'media_url': 'http://pbs.twimg.com/media/DFyBag_UQAAhhBC.jpg',\n",
       "    'media_url_https': 'https://pbs.twimg.com/media/DFyBag_UQAAhhBC.jpg',\n",
       "    'url': 'https://t.co/v0nONBcwxq',\n",
       "    'display_url': 'pic.twitter.com/v0nONBcwxq',\n",
       "    'expanded_url': 'https://twitter.com/dog_rates/status/890729181411237888/photo/1',\n",
       "    'type': 'photo',\n",
       "    'sizes': {'thumb': {'w': 150, 'h': 150, 'resize': 'crop'},\n",
       "     'large': {'w': 1200, 'h': 1328, 'resize': 'fit'},\n",
       "     'medium': {'w': 1084, 'h': 1200, 'resize': 'fit'},\n",
       "     'small': {'w': 614, 'h': 680, 'resize': 'fit'}}},\n",
       "   {'id': 890729118848892928,\n",
       "    'id_str': '890729118848892928',\n",
       "    'indices': [119, 142],\n",
       "    'media_url': 'http://pbs.twimg.com/media/DFyBahAVwAAhUTd.jpg',\n",
       "    'media_url_https': 'https://pbs.twimg.com/media/DFyBahAVwAAhUTd.jpg',\n",
       "    'url': 'https://t.co/v0nONBcwxq',\n",
       "    'display_url': 'pic.twitter.com/v0nONBcwxq',\n",
       "    'expanded_url': 'https://twitter.com/dog_rates/status/890729181411237888/photo/1',\n",
       "    'type': 'photo',\n",
       "    'sizes': {'thumb': {'w': 150, 'h': 150, 'resize': 'crop'},\n",
       "     'small': {'w': 510, 'h': 680, 'resize': 'fit'},\n",
       "     'medium': {'w': 901, 'h': 1200, 'resize': 'fit'},\n",
       "     'large': {'w': 1201, 'h': 1600, 'resize': 'fit'}}}]},\n",
       " 'source': '<a href=\"http://twitter.com/download/iphone\" rel=\"nofollow\">Twitter for iPhone</a>',\n",
       " 'in_reply_to_status_id': None,\n",
       " 'in_reply_to_status_id_str': None,\n",
       " 'in_reply_to_user_id': None,\n",
       " 'in_reply_to_user_id_str': None,\n",
       " 'in_reply_to_screen_name': None,\n",
       " 'user': {'id': 4196983835,\n",
       "  'id_str': '4196983835',\n",
       "  'name': 'WeRateDogs®',\n",
       "  'screen_name': 'dog_rates',\n",
       "  'location': 'links and things ➜',\n",
       "  'description': 'Your Only Source For Professional Dog Ratings Instagram and Facebook ➜ WeRateDogs partnerships@weratedogs.com ⠀⠀⠀⠀⠀⠀⠀⠀⠀⠀⠀⠀',\n",
       "  'url': 'https://t.co/6ytGi24QCk',\n",
       "  'entities': {'url': {'urls': [{'url': 'https://t.co/6ytGi24QCk',\n",
       "      'expanded_url': 'http://campsite.bio/weratedogs',\n",
       "      'display_url': 'campsite.bio/weratedogs',\n",
       "      'indices': [0, 23]}]},\n",
       "   'description': {'urls': []}},\n",
       "  'protected': False,\n",
       "  'followers_count': 8968299,\n",
       "  'friends_count': 17,\n",
       "  'listed_count': 6396,\n",
       "  'created_at': 'Sun Nov 15 21:41:29 +0000 2015',\n",
       "  'favourites_count': 145799,\n",
       "  'utc_offset': None,\n",
       "  'time_zone': None,\n",
       "  'geo_enabled': True,\n",
       "  'verified': True,\n",
       "  'statuses_count': 13484,\n",
       "  'lang': None,\n",
       "  'contributors_enabled': False,\n",
       "  'is_translator': False,\n",
       "  'is_translation_enabled': False,\n",
       "  'profile_background_color': '000000',\n",
       "  'profile_background_image_url': 'http://abs.twimg.com/images/themes/theme1/bg.png',\n",
       "  'profile_background_image_url_https': 'https://abs.twimg.com/images/themes/theme1/bg.png',\n",
       "  'profile_background_tile': False,\n",
       "  'profile_image_url': 'http://pbs.twimg.com/profile_images/1351720980972933122/I3MnYUdm_normal.jpg',\n",
       "  'profile_image_url_https': 'https://pbs.twimg.com/profile_images/1351720980972933122/I3MnYUdm_normal.jpg',\n",
       "  'profile_banner_url': 'https://pbs.twimg.com/profile_banners/4196983835/1611883974',\n",
       "  'profile_link_color': 'F5ABB5',\n",
       "  'profile_sidebar_border_color': '000000',\n",
       "  'profile_sidebar_fill_color': '000000',\n",
       "  'profile_text_color': '000000',\n",
       "  'profile_use_background_image': False,\n",
       "  'has_extended_profile': False,\n",
       "  'default_profile': False,\n",
       "  'default_profile_image': False,\n",
       "  'following': True,\n",
       "  'follow_request_sent': False,\n",
       "  'notifications': False,\n",
       "  'translator_type': 'none'},\n",
       " 'geo': None,\n",
       " 'coordinates': None,\n",
       " 'place': None,\n",
       " 'contributors': None,\n",
       " 'is_quote_status': False,\n",
       " 'retweet_count': 16502,\n",
       " 'favorite_count': 58997,\n",
       " 'favorited': False,\n",
       " 'retweeted': False,\n",
       " 'possibly_sensitive': False,\n",
       " 'possibly_sensitive_appealable': False,\n",
       " 'lang': 'en'}"
      ]
     },
     "execution_count": 15,
     "metadata": {},
     "output_type": "execute_result"
    }
   ],
   "source": [
    "# show tweet info\n",
    "info = tweets._json\n",
    "info"
   ]
  },
  {
   "cell_type": "code",
   "execution_count": 16,
   "metadata": {},
   "outputs": [],
   "source": [
    "#create tweet_json.txt file with to store each tweet's entire set of JSON data\n",
    "jason_file = 'tweet_json.txt'\n",
    "if not os.path.isfile(jason_file):\n",
    "    open(jason_file, 'w', encoding = 'UTF-8')"
   ]
  },
  {
   "cell_type": "code",
   "execution_count": 17,
   "metadata": {},
   "outputs": [],
   "source": [
    "# create a tweet id list\n",
    "tweet_ids = archive.tweet_id.values"
   ]
  },
  {
   "cell_type": "code",
   "execution_count": 18,
   "metadata": {},
   "outputs": [
    {
     "name": "stdout",
     "output_type": "stream",
     "text": [
      "[892420643555336193 892177421306343426 891815181378084864 ...,\n",
      " 666033412701032449 666029285002620928 666020888022790149]\n"
     ]
    }
   ],
   "source": [
    "print(tweet_ids)"
   ]
  },
  {
   "cell_type": "code",
   "execution_count": 19,
   "metadata": {},
   "outputs": [],
   "source": [
    "# Dataframe with the tweet ids in twitter_archive-enhanced.csv\n",
    "#df_tweets = archive.tweet_id."
   ]
  },
  {
   "cell_type": "code",
   "execution_count": 20,
   "metadata": {
    "scrolled": true
   },
   "outputs": [
    {
     "name": "stdout",
     "output_type": "stream",
     "text": [
      "Start time: 20:24:15.613860\n",
      "Error: 888202515573088257 Time: 20:24:19.677340\n",
      "Error: 873697596434513921 Time: 20:24:34.547904\n",
      "Error: 872668790621863937 Time: 20:24:35.718011\n",
      "Error: 872261713294495745 Time: 20:24:36.288745\n",
      "Error: 869988702071779329 Time: 20:24:39.012469\n",
      "Error: 866816280283807744 Time: 20:24:41.758413\n",
      "Error: 861769973181624320 Time: 20:24:46.175760\n",
      "Error: 856602993587888130 Time: 20:24:51.213475\n",
      "Error: 851953902622658560 Time: 20:24:56.449028\n",
      "Error: 845459076796616705 Time: 20:25:03.483571\n",
      "Error: 844704788403113984 Time: 20:25:04.549421\n",
      "Error: 842892208864923648 Time: 20:25:05.899210\n",
      "Error: 837366284874571778 Time: 20:25:12.968350\n",
      "Error: 837012587749474308 Time: 20:25:13.326848\n",
      "Error: 829374341691346946 Time: 20:25:25.935308\n",
      "Error: 827228250799742977 Time: 20:25:29.429829\n",
      "Error: 812747805718642688 Time: 20:25:53.115065\n",
      "Error: 802247111496568832 Time: 20:26:04.648012\n",
      "Error: 779123168116150273 Time: 20:26:39.800082\n",
      "Error: 775096608509886464 Time: 20:26:46.243890\n",
      "Error: 771004394259247104 Time: 20:26:52.298877\n",
      "Error: 770743923962707968 Time: 20:26:52.881318\n",
      "Error: 759566828574212096 Time: 20:27:07.069548\n",
      "Rate limit reached. Sleeping for: 713\n",
      "Error: 754011816964026368 Time: 20:39:12.957432\n",
      "Error: 680055455951884288 Time: 20:41:44.505998\n",
      "Rate limit reached. Sleeping for: 728\n",
      "End time: 20:55:59.172544\n",
      "Runtime:  1903.5574669837952\n"
     ]
    }
   ],
   "source": [
    "errors_tweets = []\n",
    "\n",
    "# get start time of query\n",
    "print(\"Start time:\", datetime.datetime.now().time())\n",
    "start = time.time()\n",
    "\n",
    "# write JSON to .txt file\n",
    "with open('tweet_json.txt', 'w', encoding = 'UTF-8') as file:\n",
    "    for tweet_id in tweet_ids:\n",
    "        try:\n",
    "            tweet = api.get_status(tweet_id, tweet_mode = 'extended')\n",
    "            #getting the tweets into tweet._json\n",
    "            json.dump(tweet._json, file)\n",
    "            #write to an existing file\n",
    "            file.write('\\n')\n",
    "        except Exception as e:\n",
    "            print(\"Error:\", tweet_id, \"Time:\",  datetime.datetime.now().time())\n",
    "            errors_tweets.append(tweet_id)\n",
    "\n",
    "            # get end time of query\n",
    "end = time.time()\n",
    "print(\"End time:\", datetime.datetime.now().time())\n",
    "\n",
    "# display runtime\n",
    "print(\"Runtime: \", end - start)"
   ]
  },
  {
   "cell_type": "code",
   "execution_count": 21,
   "metadata": {},
   "outputs": [
    {
     "data": {
      "text/plain": [
       "[888202515573088257,\n",
       " 873697596434513921,\n",
       " 872668790621863937,\n",
       " 872261713294495745,\n",
       " 869988702071779329,\n",
       " 866816280283807744,\n",
       " 861769973181624320,\n",
       " 856602993587888130,\n",
       " 851953902622658560,\n",
       " 845459076796616705,\n",
       " 844704788403113984,\n",
       " 842892208864923648,\n",
       " 837366284874571778,\n",
       " 837012587749474308,\n",
       " 829374341691346946,\n",
       " 827228250799742977,\n",
       " 812747805718642688,\n",
       " 802247111496568832,\n",
       " 779123168116150273,\n",
       " 775096608509886464,\n",
       " 771004394259247104,\n",
       " 770743923962707968,\n",
       " 759566828574212096,\n",
       " 754011816964026368,\n",
       " 680055455951884288]"
      ]
     },
     "execution_count": 21,
     "metadata": {},
     "output_type": "execute_result"
    }
   ],
   "source": [
    "errors_tweets"
   ]
  },
  {
   "cell_type": "code",
   "execution_count": 9,
   "metadata": {},
   "outputs": [],
   "source": [
    "# extract data from tweet_json.txt file\n",
    "# tweet\n",
    "df_tw = []\n",
    "with open('tweet_json.txt') as json_file:\n",
    "    # data = json.loads(json_file)\n",
    "    for line in json_file:\n",
    "        data = json.loads(line)\n",
    "        df_tw.append({'tweet_id': data['id'],\n",
    "                        'retweet_count': data['retweet_count'],\n",
    "                        'favorite_count': data['favorite_count']})"
   ]
  },
  {
   "cell_type": "code",
   "execution_count": 10,
   "metadata": {},
   "outputs": [],
   "source": [
    "# create dataframe\n",
    "df_tweet_api = pd.DataFrame(df_tw, columns= ['tweet_id',\n",
    "                                           'retweet_count',\n",
    "                                           'favorite_count'])"
   ]
  },
  {
   "cell_type": "code",
   "execution_count": 11,
   "metadata": {},
   "outputs": [
    {
     "data": {
      "text/html": [
       "<div>\n",
       "<style scoped>\n",
       "    .dataframe tbody tr th:only-of-type {\n",
       "        vertical-align: middle;\n",
       "    }\n",
       "\n",
       "    .dataframe tbody tr th {\n",
       "        vertical-align: top;\n",
       "    }\n",
       "\n",
       "    .dataframe thead th {\n",
       "        text-align: right;\n",
       "    }\n",
       "</style>\n",
       "<table border=\"1\" class=\"dataframe\">\n",
       "  <thead>\n",
       "    <tr style=\"text-align: right;\">\n",
       "      <th></th>\n",
       "      <th>tweet_id</th>\n",
       "      <th>retweet_count</th>\n",
       "      <th>favorite_count</th>\n",
       "    </tr>\n",
       "  </thead>\n",
       "  <tbody>\n",
       "    <tr>\n",
       "      <th>0</th>\n",
       "      <td>892420643555336193</td>\n",
       "      <td>7370</td>\n",
       "      <td>35047</td>\n",
       "    </tr>\n",
       "    <tr>\n",
       "      <th>1</th>\n",
       "      <td>892177421306343426</td>\n",
       "      <td>5493</td>\n",
       "      <td>30346</td>\n",
       "    </tr>\n",
       "    <tr>\n",
       "      <th>2</th>\n",
       "      <td>891815181378084864</td>\n",
       "      <td>3631</td>\n",
       "      <td>22811</td>\n",
       "    </tr>\n",
       "    <tr>\n",
       "      <th>3</th>\n",
       "      <td>891689557279858688</td>\n",
       "      <td>7548</td>\n",
       "      <td>38318</td>\n",
       "    </tr>\n",
       "    <tr>\n",
       "      <th>4</th>\n",
       "      <td>891327558926688256</td>\n",
       "      <td>8136</td>\n",
       "      <td>36588</td>\n",
       "    </tr>\n",
       "  </tbody>\n",
       "</table>\n",
       "</div>"
      ],
      "text/plain": [
       "             tweet_id  retweet_count  favorite_count\n",
       "0  892420643555336193           7370           35047\n",
       "1  892177421306343426           5493           30346\n",
       "2  891815181378084864           3631           22811\n",
       "3  891689557279858688           7548           38318\n",
       "4  891327558926688256           8136           36588"
      ]
     },
     "execution_count": 11,
     "metadata": {},
     "output_type": "execute_result"
    }
   ],
   "source": [
    "df_tweet_api.head()"
   ]
  },
  {
   "cell_type": "code",
   "execution_count": 12,
   "metadata": {},
   "outputs": [],
   "source": [
    "# save dataframe\n",
    "df_tweet_api.to_csv('df_tweets.csv', index=False)"
   ]
  },
  {
   "cell_type": "markdown",
   "metadata": {},
   "source": [
    "#  Visual Assessment: getting acquainted with the data\n",
    "> **Twitter_Archive_Enhanced** table\n",
    "> - Missing values on columns: `in_reply_to_status_id`, `in_reply_to_user_id`, `retweeted_status_id`, `retweeted_status_user_id`, `retweeted_status_timestamp`, \n",
    "> - No values on dog stages columns: `doggo`, `floofer`, `pupper`, `puppo`\n",
    "    \n",
    "> **Image_predictions** table\n",
    "> - Predictions with small confidence percentages\n",
    "\n",
    "> **df_tweets** table\n",
    "> - df_tweets with Twitter_Archive_Enhanced can be merged by `tweet_id` column\n",
    "> - **Quality**: Unnamed Columns, `Unnamed Columns`"
   ]
  },
  {
   "cell_type": "code",
   "execution_count": 13,
   "metadata": {},
   "outputs": [],
   "source": [
    "#reading data\n",
    "df = pd.read_csv('df_tweets.csv')"
   ]
  },
  {
   "cell_type": "code",
   "execution_count": 14,
   "metadata": {},
   "outputs": [],
   "source": [
    "## change settings in order to see everything\n",
    "pd.set_option('display.max_colwidth', -1)"
   ]
  },
  {
   "cell_type": "code",
   "execution_count": 15,
   "metadata": {},
   "outputs": [
    {
     "data": {
      "text/html": [
       "<div>\n",
       "<style scoped>\n",
       "    .dataframe tbody tr th:only-of-type {\n",
       "        vertical-align: middle;\n",
       "    }\n",
       "\n",
       "    .dataframe tbody tr th {\n",
       "        vertical-align: top;\n",
       "    }\n",
       "\n",
       "    .dataframe thead th {\n",
       "        text-align: right;\n",
       "    }\n",
       "</style>\n",
       "<table border=\"1\" class=\"dataframe\">\n",
       "  <thead>\n",
       "    <tr style=\"text-align: right;\">\n",
       "      <th></th>\n",
       "      <th>tweet_id</th>\n",
       "      <th>in_reply_to_status_id</th>\n",
       "      <th>in_reply_to_user_id</th>\n",
       "      <th>timestamp</th>\n",
       "      <th>source</th>\n",
       "      <th>text</th>\n",
       "      <th>retweeted_status_id</th>\n",
       "      <th>retweeted_status_user_id</th>\n",
       "      <th>retweeted_status_timestamp</th>\n",
       "      <th>expanded_urls</th>\n",
       "      <th>rating_numerator</th>\n",
       "      <th>rating_denominator</th>\n",
       "      <th>name</th>\n",
       "      <th>doggo</th>\n",
       "      <th>floofer</th>\n",
       "      <th>pupper</th>\n",
       "      <th>puppo</th>\n",
       "    </tr>\n",
       "  </thead>\n",
       "  <tbody>\n",
       "    <tr>\n",
       "      <th>1909</th>\n",
       "      <td>674422304705744896</td>\n",
       "      <td>NaN</td>\n",
       "      <td>NaN</td>\n",
       "      <td>2015-12-09 02:56:22 +0000</td>\n",
       "      <td>&lt;a href=\"http://twitter.com/download/iphone\" rel=\"nofollow\"&gt;Twitter for iPhone&lt;/a&gt;</td>\n",
       "      <td>This is Ava. She doesn't understand flowers. 12/10 would caress firmly https://t.co/BxTJAFSIgk</td>\n",
       "      <td>NaN</td>\n",
       "      <td>NaN</td>\n",
       "      <td>NaN</td>\n",
       "      <td>https://twitter.com/dog_rates/status/674422304705744896/photo/1</td>\n",
       "      <td>12</td>\n",
       "      <td>10</td>\n",
       "      <td>Ava</td>\n",
       "      <td>None</td>\n",
       "      <td>None</td>\n",
       "      <td>None</td>\n",
       "      <td>None</td>\n",
       "    </tr>\n",
       "    <tr>\n",
       "      <th>1570</th>\n",
       "      <td>687732144991551489</td>\n",
       "      <td>NaN</td>\n",
       "      <td>NaN</td>\n",
       "      <td>2016-01-14 20:24:55 +0000</td>\n",
       "      <td>&lt;a href=\"http://vine.co\" rel=\"nofollow\"&gt;Vine - Make a Scene&lt;/a&gt;</td>\n",
       "      <td>This is Ember. That's the q-tip she owes money to. 11/10 pay up pup. (vid by @leanda_h) https://t.co/kGRcRjRJRl</td>\n",
       "      <td>NaN</td>\n",
       "      <td>NaN</td>\n",
       "      <td>NaN</td>\n",
       "      <td>https://vine.co/v/iOuMphL5DBY</td>\n",
       "      <td>11</td>\n",
       "      <td>10</td>\n",
       "      <td>Ember</td>\n",
       "      <td>None</td>\n",
       "      <td>None</td>\n",
       "      <td>None</td>\n",
       "      <td>None</td>\n",
       "    </tr>\n",
       "    <tr>\n",
       "      <th>8</th>\n",
       "      <td>890609185150312448</td>\n",
       "      <td>NaN</td>\n",
       "      <td>NaN</td>\n",
       "      <td>2017-07-27 16:25:51 +0000</td>\n",
       "      <td>&lt;a href=\"http://twitter.com/download/iphone\" rel=\"nofollow\"&gt;Twitter for iPhone&lt;/a&gt;</td>\n",
       "      <td>This is Zoey. She doesn't want to be one of the scary sharks. Just wants to be a snuggly pettable boatpet. 13/10 #BarkWeek https://t.co/9TwLuAGH0b</td>\n",
       "      <td>NaN</td>\n",
       "      <td>NaN</td>\n",
       "      <td>NaN</td>\n",
       "      <td>https://twitter.com/dog_rates/status/890609185150312448/photo/1</td>\n",
       "      <td>13</td>\n",
       "      <td>10</td>\n",
       "      <td>Zoey</td>\n",
       "      <td>None</td>\n",
       "      <td>None</td>\n",
       "      <td>None</td>\n",
       "      <td>None</td>\n",
       "    </tr>\n",
       "  </tbody>\n",
       "</table>\n",
       "</div>"
      ],
      "text/plain": [
       "                tweet_id  in_reply_to_status_id  in_reply_to_user_id  \\\n",
       "1909  674422304705744896 NaN                    NaN                    \n",
       "1570  687732144991551489 NaN                    NaN                    \n",
       "8     890609185150312448 NaN                    NaN                    \n",
       "\n",
       "                      timestamp  \\\n",
       "1909  2015-12-09 02:56:22 +0000   \n",
       "1570  2016-01-14 20:24:55 +0000   \n",
       "8     2017-07-27 16:25:51 +0000   \n",
       "\n",
       "                                                                                  source  \\\n",
       "1909  <a href=\"http://twitter.com/download/iphone\" rel=\"nofollow\">Twitter for iPhone</a>   \n",
       "1570  <a href=\"http://vine.co\" rel=\"nofollow\">Vine - Make a Scene</a>                      \n",
       "8     <a href=\"http://twitter.com/download/iphone\" rel=\"nofollow\">Twitter for iPhone</a>   \n",
       "\n",
       "                                                                                                                                                    text  \\\n",
       "1909  This is Ava. She doesn't understand flowers. 12/10 would caress firmly https://t.co/BxTJAFSIgk                                                       \n",
       "1570  This is Ember. That's the q-tip she owes money to. 11/10 pay up pup. (vid by @leanda_h) https://t.co/kGRcRjRJRl                                      \n",
       "8     This is Zoey. She doesn't want to be one of the scary sharks. Just wants to be a snuggly pettable boatpet. 13/10 #BarkWeek https://t.co/9TwLuAGH0b   \n",
       "\n",
       "      retweeted_status_id  retweeted_status_user_id  \\\n",
       "1909 NaN                  NaN                         \n",
       "1570 NaN                  NaN                         \n",
       "8    NaN                  NaN                         \n",
       "\n",
       "     retweeted_status_timestamp  \\\n",
       "1909  NaN                         \n",
       "1570  NaN                         \n",
       "8     NaN                         \n",
       "\n",
       "                                                        expanded_urls  \\\n",
       "1909  https://twitter.com/dog_rates/status/674422304705744896/photo/1   \n",
       "1570  https://vine.co/v/iOuMphL5DBY                                     \n",
       "8     https://twitter.com/dog_rates/status/890609185150312448/photo/1   \n",
       "\n",
       "      rating_numerator  rating_denominator   name doggo floofer pupper puppo  \n",
       "1909  12                10                  Ava    None  None    None   None  \n",
       "1570  11                10                  Ember  None  None    None   None  \n",
       "8     13                10                  Zoey   None  None    None   None  "
      ]
     },
     "execution_count": 15,
     "metadata": {},
     "output_type": "execute_result"
    }
   ],
   "source": [
    "archive_tw.sample(3)"
   ]
  },
  {
   "cell_type": "code",
   "execution_count": 16,
   "metadata": {},
   "outputs": [
    {
     "data": {
      "text/html": [
       "<div>\n",
       "<style scoped>\n",
       "    .dataframe tbody tr th:only-of-type {\n",
       "        vertical-align: middle;\n",
       "    }\n",
       "\n",
       "    .dataframe tbody tr th {\n",
       "        vertical-align: top;\n",
       "    }\n",
       "\n",
       "    .dataframe thead th {\n",
       "        text-align: right;\n",
       "    }\n",
       "</style>\n",
       "<table border=\"1\" class=\"dataframe\">\n",
       "  <thead>\n",
       "    <tr style=\"text-align: right;\">\n",
       "      <th></th>\n",
       "      <th>tweet_id</th>\n",
       "      <th>jpg_url</th>\n",
       "      <th>img_num</th>\n",
       "      <th>p1</th>\n",
       "      <th>p1_conf</th>\n",
       "      <th>p1_dog</th>\n",
       "      <th>p2</th>\n",
       "      <th>p2_conf</th>\n",
       "      <th>p2_dog</th>\n",
       "      <th>p3</th>\n",
       "      <th>p3_conf</th>\n",
       "      <th>p3_dog</th>\n",
       "    </tr>\n",
       "  </thead>\n",
       "  <tbody>\n",
       "    <tr>\n",
       "      <th>377</th>\n",
       "      <td>673213039743795200</td>\n",
       "      <td>https://pbs.twimg.com/media/CVe7r7QVEAAc4Bg.jpg</td>\n",
       "      <td>1</td>\n",
       "      <td>schipperke</td>\n",
       "      <td>0.888082</td>\n",
       "      <td>True</td>\n",
       "      <td>groenendael</td>\n",
       "      <td>0.047727</td>\n",
       "      <td>True</td>\n",
       "      <td>kelpie</td>\n",
       "      <td>0.041398</td>\n",
       "      <td>True</td>\n",
       "    </tr>\n",
       "    <tr>\n",
       "      <th>1932</th>\n",
       "      <td>859196978902773760</td>\n",
       "      <td>https://pbs.twimg.com/ext_tw_video_thumb/859196962498805762/pu/img/-yBpr4-o4GJZECYE.jpg</td>\n",
       "      <td>1</td>\n",
       "      <td>Angora</td>\n",
       "      <td>0.224218</td>\n",
       "      <td>False</td>\n",
       "      <td>malamute</td>\n",
       "      <td>0.216163</td>\n",
       "      <td>True</td>\n",
       "      <td>Persian_cat</td>\n",
       "      <td>0.128383</td>\n",
       "      <td>False</td>\n",
       "    </tr>\n",
       "  </tbody>\n",
       "</table>\n",
       "</div>"
      ],
      "text/plain": [
       "                tweet_id  \\\n",
       "377   673213039743795200   \n",
       "1932  859196978902773760   \n",
       "\n",
       "                                                                                      jpg_url  \\\n",
       "377   https://pbs.twimg.com/media/CVe7r7QVEAAc4Bg.jpg                                           \n",
       "1932  https://pbs.twimg.com/ext_tw_video_thumb/859196962498805762/pu/img/-yBpr4-o4GJZECYE.jpg   \n",
       "\n",
       "      img_num          p1   p1_conf  p1_dog           p2   p2_conf  p2_dog  \\\n",
       "377   1        schipperke  0.888082  True    groenendael  0.047727  True     \n",
       "1932  1        Angora      0.224218  False   malamute     0.216163  True     \n",
       "\n",
       "               p3   p3_conf  p3_dog  \n",
       "377   kelpie       0.041398  True    \n",
       "1932  Persian_cat  0.128383  False   "
      ]
     },
     "execution_count": 16,
     "metadata": {},
     "output_type": "execute_result"
    }
   ],
   "source": [
    "predic.sample(2)"
   ]
  },
  {
   "cell_type": "code",
   "execution_count": 17,
   "metadata": {},
   "outputs": [
    {
     "data": {
      "text/html": [
       "<div>\n",
       "<style scoped>\n",
       "    .dataframe tbody tr th:only-of-type {\n",
       "        vertical-align: middle;\n",
       "    }\n",
       "\n",
       "    .dataframe tbody tr th {\n",
       "        vertical-align: top;\n",
       "    }\n",
       "\n",
       "    .dataframe thead th {\n",
       "        text-align: right;\n",
       "    }\n",
       "</style>\n",
       "<table border=\"1\" class=\"dataframe\">\n",
       "  <thead>\n",
       "    <tr style=\"text-align: right;\">\n",
       "      <th></th>\n",
       "      <th>tweet_id</th>\n",
       "      <th>retweet_count</th>\n",
       "      <th>favorite_count</th>\n",
       "    </tr>\n",
       "  </thead>\n",
       "  <tbody>\n",
       "    <tr>\n",
       "      <th>0</th>\n",
       "      <td>892420643555336193</td>\n",
       "      <td>7370</td>\n",
       "      <td>35047</td>\n",
       "    </tr>\n",
       "    <tr>\n",
       "      <th>1</th>\n",
       "      <td>892177421306343426</td>\n",
       "      <td>5493</td>\n",
       "      <td>30346</td>\n",
       "    </tr>\n",
       "  </tbody>\n",
       "</table>\n",
       "</div>"
      ],
      "text/plain": [
       "             tweet_id  retweet_count  favorite_count\n",
       "0  892420643555336193  7370           35047         \n",
       "1  892177421306343426  5493           30346         "
      ]
     },
     "execution_count": 17,
     "metadata": {},
     "output_type": "execute_result"
    }
   ],
   "source": [
    "df.head(2)"
   ]
  },
  {
   "cell_type": "code",
   "execution_count": 18,
   "metadata": {},
   "outputs": [
    {
     "data": {
      "text/html": [
       "<div>\n",
       "<style scoped>\n",
       "    .dataframe tbody tr th:only-of-type {\n",
       "        vertical-align: middle;\n",
       "    }\n",
       "\n",
       "    .dataframe tbody tr th {\n",
       "        vertical-align: top;\n",
       "    }\n",
       "\n",
       "    .dataframe thead th {\n",
       "        text-align: right;\n",
       "    }\n",
       "</style>\n",
       "<table border=\"1\" class=\"dataframe\">\n",
       "  <thead>\n",
       "    <tr style=\"text-align: right;\">\n",
       "      <th></th>\n",
       "      <th>tweet_id</th>\n",
       "      <th>retweet_count</th>\n",
       "      <th>favorite_count</th>\n",
       "    </tr>\n",
       "  </thead>\n",
       "  <tbody>\n",
       "    <tr>\n",
       "      <th>1252</th>\n",
       "      <td>709158332880297985</td>\n",
       "      <td>393</td>\n",
       "      <td>1957</td>\n",
       "    </tr>\n",
       "    <tr>\n",
       "      <th>972</th>\n",
       "      <td>748337862848962560</td>\n",
       "      <td>3947</td>\n",
       "      <td>7367</td>\n",
       "    </tr>\n",
       "  </tbody>\n",
       "</table>\n",
       "</div>"
      ],
      "text/plain": [
       "                tweet_id  retweet_count  favorite_count\n",
       "1252  709158332880297985  393            1957          \n",
       "972   748337862848962560  3947           7367          "
      ]
     },
     "execution_count": 18,
     "metadata": {},
     "output_type": "execute_result"
    }
   ],
   "source": [
    "df.sample(2)"
   ]
  },
  {
   "cell_type": "markdown",
   "metadata": {},
   "source": [
    "#  Programatic Assessment: \n",
    "## Quality \n",
    "> **Twitter Enhanced** table\n",
    "> - Missing values on columns `in_reply_to_status_id`, `in_reply_to_user_id`, `retweeted_status_id`, `retweeted_status_user_id`, `retweeted_status_timestamp`, `expanded_urls` \n",
    "> - Predictions with not enough confidence percentage\n",
    "> - Different datatypes on `text` columns: text adn urls\n",
    "> - Erroneous datatyopes: Timestamp column not in `datetime` datatype\n",
    "> - 'None' values in place of missing value tag: NaN ✓\n",
    "> - No values on columns: doggo, floofer, pupper, puppo \n",
    "> - Predicted breeds names with lower and upper case  \n",
    "> - 'A' being the most common name soundsweird, looks like a mistake\n",
    "> **Image Predictions** table\n",
    "> - Three different predictions with different highest confidence percentage\n",
    "> - Tables could be just in one big DataFrame: merge df_tweets with archive, by `tweet_id\n",
    "> **df_tweets** table\n",
    "> - Unnamed Column: `Unnamed Column`, generated while saving your dataframe to csv. fix by `pd. to_csv(filename, index=False)` (see cell 32)\n",
    "> - Tables could be just in one big DataFrame: merge df_tweets with archive, by `tweet_id`\n",
    "    \n",
    "## Tidiness \n",
    "\n",
    "> - Doggo, floofer, pupper, puppo column exist in different columns: should  be combined into a single column as this is one variable that identify stage of dog\n",
    "> - Information about tweets is spread across three different files/dataframes. These three dataframes should be merged as they are the same observational unit\n"
   ]
  },
  {
   "cell_type": "code",
   "execution_count": 19,
   "metadata": {},
   "outputs": [
    {
     "name": "stdout",
     "output_type": "stream",
     "text": [
      "<class 'pandas.core.frame.DataFrame'>\n",
      "RangeIndex: 2331 entries, 0 to 2330\n",
      "Data columns (total 3 columns):\n",
      "tweet_id          2331 non-null int64\n",
      "retweet_count     2331 non-null int64\n",
      "favorite_count    2331 non-null int64\n",
      "dtypes: int64(3)\n",
      "memory usage: 54.7 KB\n"
     ]
    }
   ],
   "source": [
    "#check datatypes and missing values\n",
    "#no missing data found\n",
    "df.info()"
   ]
  },
  {
   "cell_type": "code",
   "execution_count": 20,
   "metadata": {},
   "outputs": [
    {
     "data": {
      "text/plain": [
       "tweet_id          0\n",
       "retweet_count     0\n",
       "favorite_count    0\n",
       "dtype: int64"
      ]
     },
     "execution_count": 20,
     "metadata": {},
     "output_type": "execute_result"
    }
   ],
   "source": [
    "df.isnull().sum()"
   ]
  },
  {
   "cell_type": "code",
   "execution_count": 21,
   "metadata": {},
   "outputs": [
    {
     "name": "stdout",
     "output_type": "stream",
     "text": [
      "<class 'pandas.core.frame.DataFrame'>\n",
      "RangeIndex: 2356 entries, 0 to 2355\n",
      "Data columns (total 17 columns):\n",
      "tweet_id                      2356 non-null int64\n",
      "in_reply_to_status_id         78 non-null float64\n",
      "in_reply_to_user_id           78 non-null float64\n",
      "timestamp                     2356 non-null object\n",
      "source                        2356 non-null object\n",
      "text                          2356 non-null object\n",
      "retweeted_status_id           181 non-null float64\n",
      "retweeted_status_user_id      181 non-null float64\n",
      "retweeted_status_timestamp    181 non-null object\n",
      "expanded_urls                 2297 non-null object\n",
      "rating_numerator              2356 non-null int64\n",
      "rating_denominator            2356 non-null int64\n",
      "name                          2356 non-null object\n",
      "doggo                         2356 non-null object\n",
      "floofer                       2356 non-null object\n",
      "pupper                        2356 non-null object\n",
      "puppo                         2356 non-null object\n",
      "dtypes: float64(4), int64(3), object(10)\n",
      "memory usage: 313.0+ KB\n"
     ]
    }
   ],
   "source": [
    "archive_tw.info()"
   ]
  },
  {
   "cell_type": "code",
   "execution_count": 22,
   "metadata": {},
   "outputs": [
    {
     "data": {
      "text/plain": [
       "tweet_id                      0   \n",
       "in_reply_to_status_id         2278\n",
       "in_reply_to_user_id           2278\n",
       "timestamp                     0   \n",
       "source                        0   \n",
       "text                          0   \n",
       "retweeted_status_id           2175\n",
       "retweeted_status_user_id      2175\n",
       "retweeted_status_timestamp    2175\n",
       "expanded_urls                 59  \n",
       "rating_numerator              0   \n",
       "rating_denominator            0   \n",
       "name                          0   \n",
       "doggo                         0   \n",
       "floofer                       0   \n",
       "pupper                        0   \n",
       "puppo                         0   \n",
       "dtype: int64"
      ]
     },
     "execution_count": 22,
     "metadata": {},
     "output_type": "execute_result"
    }
   ],
   "source": [
    "archive_tw.isnull().sum()"
   ]
  },
  {
   "cell_type": "code",
   "execution_count": 23,
   "metadata": {},
   "outputs": [
    {
     "data": {
      "text/plain": [
       "77"
      ]
     },
     "execution_count": 23,
     "metadata": {},
     "output_type": "execute_result"
    }
   ],
   "source": [
    "archive_tw.in_reply_to_status_id.nunique()"
   ]
  },
  {
   "cell_type": "code",
   "execution_count": 24,
   "metadata": {},
   "outputs": [
    {
     "name": "stdout",
     "output_type": "stream",
     "text": [
      "<class 'pandas.core.frame.DataFrame'>\n",
      "RangeIndex: 2075 entries, 0 to 2074\n",
      "Data columns (total 12 columns):\n",
      "tweet_id    2075 non-null int64\n",
      "jpg_url     2075 non-null object\n",
      "img_num     2075 non-null int64\n",
      "p1          2075 non-null object\n",
      "p1_conf     2075 non-null float64\n",
      "p1_dog      2075 non-null bool\n",
      "p2          2075 non-null object\n",
      "p2_conf     2075 non-null float64\n",
      "p2_dog      2075 non-null bool\n",
      "p3          2075 non-null object\n",
      "p3_conf     2075 non-null float64\n",
      "p3_dog      2075 non-null bool\n",
      "dtypes: bool(3), float64(3), int64(2), object(4)\n",
      "memory usage: 152.1+ KB\n"
     ]
    }
   ],
   "source": [
    "predic.info()"
   ]
  },
  {
   "cell_type": "code",
   "execution_count": 25,
   "metadata": {},
   "outputs": [
    {
     "data": {
      "text/plain": [
       "tweet_id    0\n",
       "jpg_url     0\n",
       "img_num     0\n",
       "p1          0\n",
       "p1_conf     0\n",
       "p1_dog      0\n",
       "p2          0\n",
       "p2_conf     0\n",
       "p2_dog      0\n",
       "p3          0\n",
       "p3_conf     0\n",
       "p3_dog      0\n",
       "dtype: int64"
      ]
     },
     "execution_count": 25,
     "metadata": {},
     "output_type": "execute_result"
    }
   ],
   "source": [
    "predic.isnull().sum()"
   ]
  },
  {
   "cell_type": "code",
   "execution_count": 26,
   "metadata": {},
   "outputs": [
    {
     "data": {
      "text/plain": [
       "0"
      ]
     },
     "execution_count": 26,
     "metadata": {},
     "output_type": "execute_result"
    }
   ],
   "source": [
    "##check for duplicates\n",
    "sum(df.duplicated())\n",
    "#no duplicates found"
   ]
  },
  {
   "cell_type": "markdown",
   "metadata": {},
   "source": [
    "#  Cleaning Process: "
   ]
  },
  {
   "cell_type": "markdown",
   "metadata": {},
   "source": [
    "## Quality \n",
    "> **Define**\n",
    "> - Remove all rows that have values (not blank or non-null) in retweeted_status_id, retweeted_status_user_id, and retweeted_status_timestamp columns.**✓** \n",
    "> - Remove retweets columns: `retweeted_status_id`, `retweeted_status_user_id`, `retweeted_status_timestamp`**✓**\n",
    "> - Remove useless columns: `in_reply_to_status_id`, `in_reply_to_user_id`**✓** \n",
    "> - Change the value 'None' with the missing value tag NaN **✓**   \n",
    "> - Change datatypes to datetime on `timestamp` column **✓**\n",
    "> - Change dog name 'A' for Nan **✓**\n",
    "> - Clean all non-dog names in name column such as 'a', 'such', 'the', 'just', 'getting' etc.\n",
    "> - Split text and url; create an `url column`**✓**\n",
    "> - Pick just the prediction with the highest confidence percentage **✓**\n",
    "> - The ratings hasn´t been standarized, due to the different denominators. **✓**\n",
    "\n",
    "## Tidiness\n",
    "> **Define**\n",
    "> - Combine doggo, floofer, pupper, puppo into a single column as this is one variable that identify stage of dog\n",
    "> - Merge tweets information as they are the same observational unit. Merge df_tweets with Twitter_Archive_Enhanced by the `tweet_id` column. Merge Image Predictions with Twitter_Archive_Enhanced by the `tweet_id` column **✓** \n"
   ]
  },
  {
   "cell_type": "markdown",
   "metadata": {},
   "source": [
    "> **Define**/**Code**\n",
    "> - Create copies of three dataframes"
   ]
  },
  {
   "cell_type": "code",
   "execution_count": 27,
   "metadata": {},
   "outputs": [],
   "source": [
    "##creating copies\n",
    "df_clean = df.copy()\n",
    "archive_tw_clean = archive_tw.copy()\n",
    "predic_clean = predic.copy()"
   ]
  },
  {
   "cell_type": "markdown",
   "metadata": {},
   "source": [
    "> **Test**"
   ]
  },
  {
   "cell_type": "code",
   "execution_count": 28,
   "metadata": {},
   "outputs": [
    {
     "data": {
      "text/html": [
       "<div>\n",
       "<style scoped>\n",
       "    .dataframe tbody tr th:only-of-type {\n",
       "        vertical-align: middle;\n",
       "    }\n",
       "\n",
       "    .dataframe tbody tr th {\n",
       "        vertical-align: top;\n",
       "    }\n",
       "\n",
       "    .dataframe thead th {\n",
       "        text-align: right;\n",
       "    }\n",
       "</style>\n",
       "<table border=\"1\" class=\"dataframe\">\n",
       "  <thead>\n",
       "    <tr style=\"text-align: right;\">\n",
       "      <th></th>\n",
       "      <th>tweet_id</th>\n",
       "      <th>retweet_count</th>\n",
       "      <th>favorite_count</th>\n",
       "    </tr>\n",
       "  </thead>\n",
       "  <tbody>\n",
       "    <tr>\n",
       "      <th>0</th>\n",
       "      <td>892420643555336193</td>\n",
       "      <td>7370</td>\n",
       "      <td>35047</td>\n",
       "    </tr>\n",
       "    <tr>\n",
       "      <th>1</th>\n",
       "      <td>892177421306343426</td>\n",
       "      <td>5493</td>\n",
       "      <td>30346</td>\n",
       "    </tr>\n",
       "  </tbody>\n",
       "</table>\n",
       "</div>"
      ],
      "text/plain": [
       "             tweet_id  retweet_count  favorite_count\n",
       "0  892420643555336193  7370           35047         \n",
       "1  892177421306343426  5493           30346         "
      ]
     },
     "execution_count": 28,
     "metadata": {},
     "output_type": "execute_result"
    }
   ],
   "source": [
    "df_clean.head(2)"
   ]
  },
  {
   "cell_type": "markdown",
   "metadata": {},
   "source": [
    "> **Define**\n",
    "> - Remove all rows that have values (not blank or non-null) in retweeted_status_id, retweeted_status_user_id, and retweeted_status_timestamp columns."
   ]
  },
  {
   "cell_type": "markdown",
   "metadata": {},
   "source": [
    "> **Code**"
   ]
  },
  {
   "cell_type": "code",
   "execution_count": 29,
   "metadata": {},
   "outputs": [],
   "source": [
    "archive_tw_clean = archive_tw_clean[archive_tw_clean.retweeted_status_id.isnull()]"
   ]
  },
  {
   "cell_type": "code",
   "execution_count": 30,
   "metadata": {},
   "outputs": [],
   "source": [
    "archive_tw_clean = archive_tw_clean[archive_tw_clean.retweeted_status_user_id.isnull()]"
   ]
  },
  {
   "cell_type": "code",
   "execution_count": 31,
   "metadata": {},
   "outputs": [],
   "source": [
    "archive_tw_clean = archive_tw_clean[archive_tw_clean.retweeted_status_timestamp.isnull()]"
   ]
  },
  {
   "cell_type": "markdown",
   "metadata": {},
   "source": [
    ">**Test**"
   ]
  },
  {
   "cell_type": "code",
   "execution_count": 32,
   "metadata": {},
   "outputs": [
    {
     "name": "stdout",
     "output_type": "stream",
     "text": [
      "<class 'pandas.core.frame.DataFrame'>\n",
      "Int64Index: 2175 entries, 0 to 2355\n",
      "Data columns (total 17 columns):\n",
      "tweet_id                      2175 non-null int64\n",
      "in_reply_to_status_id         78 non-null float64\n",
      "in_reply_to_user_id           78 non-null float64\n",
      "timestamp                     2175 non-null object\n",
      "source                        2175 non-null object\n",
      "text                          2175 non-null object\n",
      "retweeted_status_id           0 non-null float64\n",
      "retweeted_status_user_id      0 non-null float64\n",
      "retweeted_status_timestamp    0 non-null object\n",
      "expanded_urls                 2117 non-null object\n",
      "rating_numerator              2175 non-null int64\n",
      "rating_denominator            2175 non-null int64\n",
      "name                          2175 non-null object\n",
      "doggo                         2175 non-null object\n",
      "floofer                       2175 non-null object\n",
      "pupper                        2175 non-null object\n",
      "puppo                         2175 non-null object\n",
      "dtypes: float64(4), int64(3), object(10)\n",
      "memory usage: 305.9+ KB\n"
     ]
    }
   ],
   "source": [
    "archive_tw_clean.info()"
   ]
  },
  {
   "cell_type": "markdown",
   "metadata": {},
   "source": [
    "> **Define**\n",
    "> - Remove retweets columns `retweeted_status_id`, `retweeted_status_user_id` and `retweeted_status_timestamp`"
   ]
  },
  {
   "cell_type": "markdown",
   "metadata": {},
   "source": [
    ">**Code**"
   ]
  },
  {
   "cell_type": "code",
   "execution_count": 33,
   "metadata": {},
   "outputs": [],
   "source": [
    "#Remove the following columns:\n",
    "archive_tw_clean.drop(['retweeted_status_id', 'retweeted_status_user_id', 'retweeted_status_timestamp'], axis=1, inplace=True)"
   ]
  },
  {
   "cell_type": "markdown",
   "metadata": {},
   "source": [
    ">**Test**    "
   ]
  },
  {
   "cell_type": "code",
   "execution_count": 34,
   "metadata": {},
   "outputs": [
    {
     "name": "stdout",
     "output_type": "stream",
     "text": [
      "<class 'pandas.core.frame.DataFrame'>\n",
      "Int64Index: 2175 entries, 0 to 2355\n",
      "Data columns (total 14 columns):\n",
      "tweet_id                 2175 non-null int64\n",
      "in_reply_to_status_id    78 non-null float64\n",
      "in_reply_to_user_id      78 non-null float64\n",
      "timestamp                2175 non-null object\n",
      "source                   2175 non-null object\n",
      "text                     2175 non-null object\n",
      "expanded_urls            2117 non-null object\n",
      "rating_numerator         2175 non-null int64\n",
      "rating_denominator       2175 non-null int64\n",
      "name                     2175 non-null object\n",
      "doggo                    2175 non-null object\n",
      "floofer                  2175 non-null object\n",
      "pupper                   2175 non-null object\n",
      "puppo                    2175 non-null object\n",
      "dtypes: float64(2), int64(3), object(9)\n",
      "memory usage: 254.9+ KB\n"
     ]
    }
   ],
   "source": [
    "archive_tw_clean.info()"
   ]
  },
  {
   "cell_type": "markdown",
   "metadata": {},
   "source": [
    "> **Define**\n",
    "> - Remove useless columns: `in_reply_to_status_id`, `in_reply_to_user_id`"
   ]
  },
  {
   "cell_type": "markdown",
   "metadata": {},
   "source": [
    "> **Code**"
   ]
  },
  {
   "cell_type": "code",
   "execution_count": 35,
   "metadata": {},
   "outputs": [],
   "source": [
    "archive_tw_clean.drop(['in_reply_to_status_id', 'in_reply_to_user_id'], axis=1, inplace=True)"
   ]
  },
  {
   "cell_type": "markdown",
   "metadata": {},
   "source": [
    "> **Test**\n"
   ]
  },
  {
   "cell_type": "code",
   "execution_count": 36,
   "metadata": {},
   "outputs": [
    {
     "name": "stdout",
     "output_type": "stream",
     "text": [
      "<class 'pandas.core.frame.DataFrame'>\n",
      "Int64Index: 2175 entries, 0 to 2355\n",
      "Data columns (total 12 columns):\n",
      "tweet_id              2175 non-null int64\n",
      "timestamp             2175 non-null object\n",
      "source                2175 non-null object\n",
      "text                  2175 non-null object\n",
      "expanded_urls         2117 non-null object\n",
      "rating_numerator      2175 non-null int64\n",
      "rating_denominator    2175 non-null int64\n",
      "name                  2175 non-null object\n",
      "doggo                 2175 non-null object\n",
      "floofer               2175 non-null object\n",
      "pupper                2175 non-null object\n",
      "puppo                 2175 non-null object\n",
      "dtypes: int64(3), object(9)\n",
      "memory usage: 220.9+ KB\n"
     ]
    }
   ],
   "source": [
    "archive_tw_clean.info()"
   ]
  },
  {
   "cell_type": "markdown",
   "metadata": {},
   "source": [
    "> **Define**\n",
    "> - Add values on dog stages columns: doggo, floofer, pupper, puppo: replace None by Nan"
   ]
  },
  {
   "cell_type": "markdown",
   "metadata": {},
   "source": [
    "> **Code**"
   ]
  },
  {
   "cell_type": "code",
   "execution_count": 37,
   "metadata": {},
   "outputs": [],
   "source": [
    "#replace the value 'None' with NaN (missing value)\n",
    "archive_tw_clean =  archive_tw_clean.replace('None', np.nan)"
   ]
  },
  {
   "cell_type": "markdown",
   "metadata": {},
   "source": [
    "> **Test**"
   ]
  },
  {
   "cell_type": "code",
   "execution_count": 38,
   "metadata": {},
   "outputs": [
    {
     "data": {
      "text/plain": [
       "0    NaN  \n",
       "1    NaN  \n",
       "2    NaN  \n",
       "3    NaN  \n",
       "4    NaN  \n",
       "5    NaN  \n",
       "6    NaN  \n",
       "7    NaN  \n",
       "8    NaN  \n",
       "9    doggo\n",
       "Name: doggo, dtype: object"
      ]
     },
     "execution_count": 38,
     "metadata": {},
     "output_type": "execute_result"
    }
   ],
   "source": [
    "archive_tw_clean.doggo.head(10)"
   ]
  },
  {
   "cell_type": "markdown",
   "metadata": {},
   "source": [
    "> **Define**\n",
    "> - Replace all Nan values with np.nan"
   ]
  },
  {
   "cell_type": "markdown",
   "metadata": {},
   "source": [
    "> **Code**"
   ]
  },
  {
   "cell_type": "code",
   "execution_count": 39,
   "metadata": {},
   "outputs": [],
   "source": [
    "archive_tw_clean =  archive_tw_clean.replace('None', np.nan)"
   ]
  },
  {
   "cell_type": "markdown",
   "metadata": {},
   "source": [
    "> **Test**"
   ]
  },
  {
   "cell_type": "code",
   "execution_count": 40,
   "metadata": {},
   "outputs": [
    {
     "data": {
      "text/plain": [
       "a             55\n",
       "Lucy          11\n",
       "Charlie       11\n",
       "Oliver        10\n",
       "Cooper        10\n",
       "Tucker        9 \n",
       "Penny         9 \n",
       "Sadie         8 \n",
       "Lola          8 \n",
       "Winston       8 \n",
       "the           8 \n",
       "Toby          7 \n",
       "Daisy         7 \n",
       "Bo            6 \n",
       "Stanley       6 \n",
       "Bailey        6 \n",
       "Koda          6 \n",
       "Jax           6 \n",
       "an            6 \n",
       "Oscar         6 \n",
       "Bella         6 \n",
       "Scout         5 \n",
       "Dave          5 \n",
       "Rusty         5 \n",
       "Buddy         5 \n",
       "Chester       5 \n",
       "Milo          5 \n",
       "Bentley       5 \n",
       "Louis         5 \n",
       "Leo           5 \n",
       "             .. \n",
       "JD            1 \n",
       "Mary          1 \n",
       "Farfle        1 \n",
       "Bookstore     1 \n",
       "Koko          1 \n",
       "Samsom        1 \n",
       "Nugget        1 \n",
       "Boots         1 \n",
       "Lizzie        1 \n",
       "Carter        1 \n",
       "Cal           1 \n",
       "Cilantro      1 \n",
       "Ralf          1 \n",
       "Adele         1 \n",
       "Poppy         1 \n",
       "Staniel       1 \n",
       "Mark          1 \n",
       "Hazel         1 \n",
       "Brian         1 \n",
       "Alf           1 \n",
       "Jed           1 \n",
       "Dug           1 \n",
       "Mauve         1 \n",
       "Luther        1 \n",
       "Kane          1 \n",
       "Bronte        1 \n",
       "Creg          1 \n",
       "Longfellow    1 \n",
       "Gerbald       1 \n",
       "Stormy        1 \n",
       "Name: name, Length: 955, dtype: int64"
      ]
     },
     "execution_count": 40,
     "metadata": {},
     "output_type": "execute_result"
    }
   ],
   "source": [
    "archive_tw_clean.name.value_counts()"
   ]
  },
  {
   "cell_type": "markdown",
   "metadata": {},
   "source": [
    "> **Define**\n",
    "> - Change datatypes to datetime on timestamp and retweeted_status columns"
   ]
  },
  {
   "cell_type": "markdown",
   "metadata": {},
   "source": [
    "> **Code**"
   ]
  },
  {
   "cell_type": "code",
   "execution_count": 41,
   "metadata": {},
   "outputs": [],
   "source": [
    "archive_tw_clean['timestamp'] = pd.to_datetime(archive_tw_clean['timestamp'])"
   ]
  },
  {
   "cell_type": "markdown",
   "metadata": {},
   "source": [
    "> **Test**"
   ]
  },
  {
   "cell_type": "code",
   "execution_count": 42,
   "metadata": {},
   "outputs": [
    {
     "name": "stdout",
     "output_type": "stream",
     "text": [
      "<class 'pandas.core.frame.DataFrame'>\n",
      "Int64Index: 2175 entries, 0 to 2355\n",
      "Data columns (total 12 columns):\n",
      "tweet_id              2175 non-null int64\n",
      "timestamp             2175 non-null datetime64[ns]\n",
      "source                2175 non-null object\n",
      "text                  2175 non-null object\n",
      "expanded_urls         2117 non-null object\n",
      "rating_numerator      2175 non-null int64\n",
      "rating_denominator    2175 non-null int64\n",
      "name                  1495 non-null object\n",
      "doggo                 87 non-null object\n",
      "floofer               10 non-null object\n",
      "pupper                234 non-null object\n",
      "puppo                 25 non-null object\n",
      "dtypes: datetime64[ns](1), int64(3), object(8)\n",
      "memory usage: 220.9+ KB\n"
     ]
    }
   ],
   "source": [
    "archive_tw_clean.info()"
   ]
  },
  {
   "cell_type": "markdown",
   "metadata": {},
   "source": [
    "> **Define**\n",
    "> - Split text and url; create an `url column`"
   ]
  },
  {
   "cell_type": "markdown",
   "metadata": {},
   "source": [
    "> **Code**"
   ]
  },
  {
   "cell_type": "code",
   "execution_count": 43,
   "metadata": {},
   "outputs": [
    {
     "data": {
      "text/plain": [
       "24"
      ]
     },
     "execution_count": 43,
     "metadata": {},
     "output_type": "execute_result"
    }
   ],
   "source": [
    "#get the length of text+url in column text\n",
    "url = 'https://t.co/AtUZn91f7f'\n",
    "url_len = len(url)+1\n",
    "url_len"
   ]
  },
  {
   "cell_type": "code",
   "execution_count": 44,
   "metadata": {},
   "outputs": [],
   "source": [
    "#create a new column with the url from text\n",
    "archive_tw_clean['url_from_text'] = archive_tw_clean['text'].apply(lambda row: row[-url_len:])"
   ]
  },
  {
   "cell_type": "markdown",
   "metadata": {},
   "source": [
    ">**Test**"
   ]
  },
  {
   "cell_type": "code",
   "execution_count": 45,
   "metadata": {},
   "outputs": [
    {
     "data": {
      "text/plain": [
       "1187     https://t.co/JyNmyjy3fe\n",
       "Name: url_from_text, dtype: object"
      ]
     },
     "execution_count": 45,
     "metadata": {},
     "output_type": "execute_result"
    }
   ],
   "source": [
    "archive_tw_clean.url_from_text.sample()"
   ]
  },
  {
   "cell_type": "markdown",
   "metadata": {},
   "source": [
    ">**Define** (tidiness issue #2)\n",
    "> - Merge df_tweets with Twitter_Archive_Enhanced by the `tweet_id` column "
   ]
  },
  {
   "cell_type": "markdown",
   "metadata": {},
   "source": [
    "> **Code**"
   ]
  },
  {
   "cell_type": "code",
   "execution_count": 46,
   "metadata": {},
   "outputs": [
    {
     "data": {
      "text/html": [
       "<div>\n",
       "<style scoped>\n",
       "    .dataframe tbody tr th:only-of-type {\n",
       "        vertical-align: middle;\n",
       "    }\n",
       "\n",
       "    .dataframe tbody tr th {\n",
       "        vertical-align: top;\n",
       "    }\n",
       "\n",
       "    .dataframe thead th {\n",
       "        text-align: right;\n",
       "    }\n",
       "</style>\n",
       "<table border=\"1\" class=\"dataframe\">\n",
       "  <thead>\n",
       "    <tr style=\"text-align: right;\">\n",
       "      <th></th>\n",
       "      <th>tweet_id</th>\n",
       "      <th>retweet_count</th>\n",
       "      <th>favorite_count</th>\n",
       "    </tr>\n",
       "  </thead>\n",
       "  <tbody>\n",
       "    <tr>\n",
       "      <th>0</th>\n",
       "      <td>892420643555336193</td>\n",
       "      <td>7370</td>\n",
       "      <td>35047</td>\n",
       "    </tr>\n",
       "    <tr>\n",
       "      <th>1</th>\n",
       "      <td>892177421306343426</td>\n",
       "      <td>5493</td>\n",
       "      <td>30346</td>\n",
       "    </tr>\n",
       "    <tr>\n",
       "      <th>2</th>\n",
       "      <td>891815181378084864</td>\n",
       "      <td>3631</td>\n",
       "      <td>22811</td>\n",
       "    </tr>\n",
       "    <tr>\n",
       "      <th>3</th>\n",
       "      <td>891689557279858688</td>\n",
       "      <td>7548</td>\n",
       "      <td>38318</td>\n",
       "    </tr>\n",
       "    <tr>\n",
       "      <th>4</th>\n",
       "      <td>891327558926688256</td>\n",
       "      <td>8136</td>\n",
       "      <td>36588</td>\n",
       "    </tr>\n",
       "  </tbody>\n",
       "</table>\n",
       "</div>"
      ],
      "text/plain": [
       "             tweet_id  retweet_count  favorite_count\n",
       "0  892420643555336193  7370           35047         \n",
       "1  892177421306343426  5493           30346         \n",
       "2  891815181378084864  3631           22811         \n",
       "3  891689557279858688  7548           38318         \n",
       "4  891327558926688256  8136           36588         "
      ]
     },
     "execution_count": 46,
     "metadata": {},
     "output_type": "execute_result"
    }
   ],
   "source": [
    "df_clean.head()"
   ]
  },
  {
   "cell_type": "code",
   "execution_count": 47,
   "metadata": {},
   "outputs": [],
   "source": [
    "archive_tw_clean = pd.merge(left=archive_tw_clean, right=df_clean, how='left', on='tweet_id')"
   ]
  },
  {
   "cell_type": "markdown",
   "metadata": {},
   "source": [
    ">**Test**"
   ]
  },
  {
   "cell_type": "code",
   "execution_count": 48,
   "metadata": {},
   "outputs": [
    {
     "name": "stdout",
     "output_type": "stream",
     "text": [
      "<class 'pandas.core.frame.DataFrame'>\n",
      "Int64Index: 2175 entries, 0 to 2174\n",
      "Data columns (total 15 columns):\n",
      "tweet_id              2175 non-null int64\n",
      "timestamp             2175 non-null datetime64[ns]\n",
      "source                2175 non-null object\n",
      "text                  2175 non-null object\n",
      "expanded_urls         2117 non-null object\n",
      "rating_numerator      2175 non-null int64\n",
      "rating_denominator    2175 non-null int64\n",
      "name                  1495 non-null object\n",
      "doggo                 87 non-null object\n",
      "floofer               10 non-null object\n",
      "pupper                234 non-null object\n",
      "puppo                 25 non-null object\n",
      "url_from_text         2175 non-null object\n",
      "retweet_count         2168 non-null float64\n",
      "favorite_count        2168 non-null float64\n",
      "dtypes: datetime64[ns](1), float64(2), int64(3), object(9)\n",
      "memory usage: 271.9+ KB\n"
     ]
    }
   ],
   "source": [
    "archive_tw_clean.info()"
   ]
  },
  {
   "cell_type": "markdown",
   "metadata": {},
   "source": [
    ">**Define**\n",
    "> - Pick just the prediction with the highest confidence percentage fro predic table "
   ]
  },
  {
   "cell_type": "markdown",
   "metadata": {},
   "source": [
    "> **Code**"
   ]
  },
  {
   "cell_type": "code",
   "execution_count": 49,
   "metadata": {
    "scrolled": true
   },
   "outputs": [
    {
     "name": "stdout",
     "output_type": "stream",
     "text": [
      "<class 'pandas.core.frame.DataFrame'>\n",
      "RangeIndex: 2075 entries, 0 to 2074\n",
      "Data columns (total 12 columns):\n",
      "tweet_id    2075 non-null int64\n",
      "jpg_url     2075 non-null object\n",
      "img_num     2075 non-null int64\n",
      "p1          2075 non-null object\n",
      "p1_conf     2075 non-null float64\n",
      "p1_dog      2075 non-null bool\n",
      "p2          2075 non-null object\n",
      "p2_conf     2075 non-null float64\n",
      "p2_dog      2075 non-null bool\n",
      "p3          2075 non-null object\n",
      "p3_conf     2075 non-null float64\n",
      "p3_dog      2075 non-null bool\n",
      "dtypes: bool(3), float64(3), int64(2), object(4)\n",
      "memory usage: 152.1+ KB\n"
     ]
    }
   ],
   "source": [
    "predic_clean.info()"
   ]
  },
  {
   "cell_type": "code",
   "execution_count": 50,
   "metadata": {},
   "outputs": [],
   "source": [
    "predic_clean.drop(['p2', 'p2_conf', 'p2_dog', 'p3', 'p3_conf', 'p3_dog'], axis=1, inplace =True)"
   ]
  },
  {
   "cell_type": "markdown",
   "metadata": {},
   "source": [
    ">**Test**"
   ]
  },
  {
   "cell_type": "code",
   "execution_count": 51,
   "metadata": {},
   "outputs": [
    {
     "name": "stdout",
     "output_type": "stream",
     "text": [
      "<class 'pandas.core.frame.DataFrame'>\n",
      "RangeIndex: 2075 entries, 0 to 2074\n",
      "Data columns (total 6 columns):\n",
      "tweet_id    2075 non-null int64\n",
      "jpg_url     2075 non-null object\n",
      "img_num     2075 non-null int64\n",
      "p1          2075 non-null object\n",
      "p1_conf     2075 non-null float64\n",
      "p1_dog      2075 non-null bool\n",
      "dtypes: bool(1), float64(1), int64(2), object(2)\n",
      "memory usage: 83.2+ KB\n"
     ]
    }
   ],
   "source": [
    "predic_clean.info()"
   ]
  },
  {
   "cell_type": "markdown",
   "metadata": {},
   "source": [
    ">**Define**\n",
    "> - Merge Image Predictions with Twitter_Archive_Enhanced by the `tweet_id` column "
   ]
  },
  {
   "cell_type": "markdown",
   "metadata": {},
   "source": [
    "> **Code**"
   ]
  },
  {
   "cell_type": "code",
   "execution_count": 52,
   "metadata": {},
   "outputs": [],
   "source": [
    "# merge archive_tw_clean with predic_clean\n",
    "archive_tw_clean = pd.merge(left=archive_tw_clean, right=predic_clean, how='left', on='tweet_id')"
   ]
  },
  {
   "cell_type": "markdown",
   "metadata": {},
   "source": [
    "> **Test**"
   ]
  },
  {
   "cell_type": "code",
   "execution_count": 53,
   "metadata": {},
   "outputs": [
    {
     "name": "stdout",
     "output_type": "stream",
     "text": [
      "<class 'pandas.core.frame.DataFrame'>\n",
      "Int64Index: 2175 entries, 0 to 2174\n",
      "Data columns (total 20 columns):\n",
      "tweet_id              2175 non-null int64\n",
      "timestamp             2175 non-null datetime64[ns]\n",
      "source                2175 non-null object\n",
      "text                  2175 non-null object\n",
      "expanded_urls         2117 non-null object\n",
      "rating_numerator      2175 non-null int64\n",
      "rating_denominator    2175 non-null int64\n",
      "name                  1495 non-null object\n",
      "doggo                 87 non-null object\n",
      "floofer               10 non-null object\n",
      "pupper                234 non-null object\n",
      "puppo                 25 non-null object\n",
      "url_from_text         2175 non-null object\n",
      "retweet_count         2168 non-null float64\n",
      "favorite_count        2168 non-null float64\n",
      "jpg_url               1994 non-null object\n",
      "img_num               1994 non-null float64\n",
      "p1                    1994 non-null object\n",
      "p1_conf               1994 non-null float64\n",
      "p1_dog                1994 non-null object\n",
      "dtypes: datetime64[ns](1), float64(4), int64(3), object(12)\n",
      "memory usage: 356.8+ KB\n"
     ]
    }
   ],
   "source": [
    "archive_tw_clean.info()"
   ]
  },
  {
   "cell_type": "code",
   "execution_count": 54,
   "metadata": {},
   "outputs": [
    {
     "data": {
      "text/html": [
       "<div>\n",
       "<style scoped>\n",
       "    .dataframe tbody tr th:only-of-type {\n",
       "        vertical-align: middle;\n",
       "    }\n",
       "\n",
       "    .dataframe tbody tr th {\n",
       "        vertical-align: top;\n",
       "    }\n",
       "\n",
       "    .dataframe thead th {\n",
       "        text-align: right;\n",
       "    }\n",
       "</style>\n",
       "<table border=\"1\" class=\"dataframe\">\n",
       "  <thead>\n",
       "    <tr style=\"text-align: right;\">\n",
       "      <th></th>\n",
       "      <th>tweet_id</th>\n",
       "      <th>timestamp</th>\n",
       "      <th>source</th>\n",
       "      <th>text</th>\n",
       "      <th>expanded_urls</th>\n",
       "      <th>rating_numerator</th>\n",
       "      <th>rating_denominator</th>\n",
       "      <th>name</th>\n",
       "      <th>doggo</th>\n",
       "      <th>floofer</th>\n",
       "      <th>pupper</th>\n",
       "      <th>puppo</th>\n",
       "      <th>url_from_text</th>\n",
       "      <th>retweet_count</th>\n",
       "      <th>favorite_count</th>\n",
       "      <th>jpg_url</th>\n",
       "      <th>img_num</th>\n",
       "      <th>p1</th>\n",
       "      <th>p1_conf</th>\n",
       "      <th>p1_dog</th>\n",
       "    </tr>\n",
       "  </thead>\n",
       "  <tbody>\n",
       "    <tr>\n",
       "      <th>0</th>\n",
       "      <td>892420643555336193</td>\n",
       "      <td>2017-08-01 16:23:56</td>\n",
       "      <td>&lt;a href=\"http://twitter.com/download/iphone\" rel=\"nofollow\"&gt;Twitter for iPhone&lt;/a&gt;</td>\n",
       "      <td>This is Phineas. He's a mystical boy. Only ever appears in the hole of a donut. 13/10 https://t.co/MgUWQ76dJU</td>\n",
       "      <td>https://twitter.com/dog_rates/status/892420643555336193/photo/1</td>\n",
       "      <td>13</td>\n",
       "      <td>10</td>\n",
       "      <td>Phineas</td>\n",
       "      <td>NaN</td>\n",
       "      <td>NaN</td>\n",
       "      <td>NaN</td>\n",
       "      <td>NaN</td>\n",
       "      <td>https://t.co/MgUWQ76dJU</td>\n",
       "      <td>7370.0</td>\n",
       "      <td>35047.0</td>\n",
       "      <td>https://pbs.twimg.com/media/DGKD1-bXoAAIAUK.jpg</td>\n",
       "      <td>1.0</td>\n",
       "      <td>orange</td>\n",
       "      <td>0.097049</td>\n",
       "      <td>False</td>\n",
       "    </tr>\n",
       "    <tr>\n",
       "      <th>1</th>\n",
       "      <td>892177421306343426</td>\n",
       "      <td>2017-08-01 00:17:27</td>\n",
       "      <td>&lt;a href=\"http://twitter.com/download/iphone\" rel=\"nofollow\"&gt;Twitter for iPhone&lt;/a&gt;</td>\n",
       "      <td>This is Tilly. She's just checking pup on you. Hopes you're doing ok. If not, she's available for pats, snugs, boops, the whole bit. 13/10 https://t.co/0Xxu71qeIV</td>\n",
       "      <td>https://twitter.com/dog_rates/status/892177421306343426/photo/1</td>\n",
       "      <td>13</td>\n",
       "      <td>10</td>\n",
       "      <td>Tilly</td>\n",
       "      <td>NaN</td>\n",
       "      <td>NaN</td>\n",
       "      <td>NaN</td>\n",
       "      <td>NaN</td>\n",
       "      <td>https://t.co/0Xxu71qeIV</td>\n",
       "      <td>5493.0</td>\n",
       "      <td>30346.0</td>\n",
       "      <td>https://pbs.twimg.com/media/DGGmoV4XsAAUL6n.jpg</td>\n",
       "      <td>1.0</td>\n",
       "      <td>Chihuahua</td>\n",
       "      <td>0.323581</td>\n",
       "      <td>True</td>\n",
       "    </tr>\n",
       "  </tbody>\n",
       "</table>\n",
       "</div>"
      ],
      "text/plain": [
       "             tweet_id           timestamp  \\\n",
       "0  892420643555336193 2017-08-01 16:23:56   \n",
       "1  892177421306343426 2017-08-01 00:17:27   \n",
       "\n",
       "                                                                               source  \\\n",
       "0  <a href=\"http://twitter.com/download/iphone\" rel=\"nofollow\">Twitter for iPhone</a>   \n",
       "1  <a href=\"http://twitter.com/download/iphone\" rel=\"nofollow\">Twitter for iPhone</a>   \n",
       "\n",
       "                                                                                                                                                                 text  \\\n",
       "0  This is Phineas. He's a mystical boy. Only ever appears in the hole of a donut. 13/10 https://t.co/MgUWQ76dJU                                                        \n",
       "1  This is Tilly. She's just checking pup on you. Hopes you're doing ok. If not, she's available for pats, snugs, boops, the whole bit. 13/10 https://t.co/0Xxu71qeIV   \n",
       "\n",
       "                                                     expanded_urls  \\\n",
       "0  https://twitter.com/dog_rates/status/892420643555336193/photo/1   \n",
       "1  https://twitter.com/dog_rates/status/892177421306343426/photo/1   \n",
       "\n",
       "   rating_numerator  rating_denominator     name doggo floofer pupper puppo  \\\n",
       "0  13                10                  Phineas  NaN   NaN     NaN    NaN    \n",
       "1  13                10                  Tilly    NaN   NaN     NaN    NaN    \n",
       "\n",
       "              url_from_text  retweet_count  favorite_count  \\\n",
       "0   https://t.co/MgUWQ76dJU  7370.0         35047.0          \n",
       "1   https://t.co/0Xxu71qeIV  5493.0         30346.0          \n",
       "\n",
       "                                           jpg_url  img_num         p1  \\\n",
       "0  https://pbs.twimg.com/media/DGKD1-bXoAAIAUK.jpg  1.0      orange      \n",
       "1  https://pbs.twimg.com/media/DGGmoV4XsAAUL6n.jpg  1.0      Chihuahua   \n",
       "\n",
       "    p1_conf p1_dog  \n",
       "0  0.097049  False  \n",
       "1  0.323581  True   "
      ]
     },
     "execution_count": 54,
     "metadata": {},
     "output_type": "execute_result"
    }
   ],
   "source": [
    "archive_tw_clean.head(2)"
   ]
  },
  {
   "cell_type": "code",
   "execution_count": 55,
   "metadata": {},
   "outputs": [
    {
     "data": {
      "text/html": [
       "<div>\n",
       "<style scoped>\n",
       "    .dataframe tbody tr th:only-of-type {\n",
       "        vertical-align: middle;\n",
       "    }\n",
       "\n",
       "    .dataframe tbody tr th {\n",
       "        vertical-align: top;\n",
       "    }\n",
       "\n",
       "    .dataframe thead th {\n",
       "        text-align: right;\n",
       "    }\n",
       "</style>\n",
       "<table border=\"1\" class=\"dataframe\">\n",
       "  <thead>\n",
       "    <tr style=\"text-align: right;\">\n",
       "      <th></th>\n",
       "      <th>tweet_id</th>\n",
       "      <th>jpg_url</th>\n",
       "      <th>img_num</th>\n",
       "      <th>p1</th>\n",
       "      <th>p1_conf</th>\n",
       "      <th>p1_dog</th>\n",
       "    </tr>\n",
       "  </thead>\n",
       "  <tbody>\n",
       "    <tr>\n",
       "      <th>2074</th>\n",
       "      <td>892420643555336193</td>\n",
       "      <td>https://pbs.twimg.com/media/DGKD1-bXoAAIAUK.jpg</td>\n",
       "      <td>1</td>\n",
       "      <td>orange</td>\n",
       "      <td>0.097049</td>\n",
       "      <td>False</td>\n",
       "    </tr>\n",
       "  </tbody>\n",
       "</table>\n",
       "</div>"
      ],
      "text/plain": [
       "                tweet_id                                          jpg_url  \\\n",
       "2074  892420643555336193  https://pbs.twimg.com/media/DGKD1-bXoAAIAUK.jpg   \n",
       "\n",
       "      img_num      p1   p1_conf  p1_dog  \n",
       "2074  1        orange  0.097049  False   "
      ]
     },
     "execution_count": 55,
     "metadata": {},
     "output_type": "execute_result"
    }
   ],
   "source": [
    "primer = predic_clean[predic_clean.p1 == 'orange']\n",
    "primer"
   ]
  },
  {
   "cell_type": "markdown",
   "metadata": {},
   "source": [
    ">**Define**\n",
    "> - Unify dog breeds with lowercase  "
   ]
  },
  {
   "cell_type": "markdown",
   "metadata": {},
   "source": [
    ">**Code** "
   ]
  },
  {
   "cell_type": "code",
   "execution_count": 56,
   "metadata": {},
   "outputs": [],
   "source": [
    "archive_tw_clean['p1'] = [str(i).lower() for i in archive_tw_clean['p1']] \n",
    "\n"
   ]
  },
  {
   "cell_type": "markdown",
   "metadata": {},
   "source": [
    ">**Test**\n"
   ]
  },
  {
   "cell_type": "code",
   "execution_count": 57,
   "metadata": {},
   "outputs": [
    {
     "data": {
      "text/plain": [
       "nan                          181\n",
       "golden_retriever             139\n",
       "labrador_retriever           95 \n",
       "pembroke                     88 \n",
       "chihuahua                    79 \n",
       "pug                          54 \n",
       "chow                         41 \n",
       "samoyed                      40 \n",
       "toy_poodle                   38 \n",
       "pomeranian                   38 \n",
       "malamute                     29 \n",
       "cocker_spaniel               27 \n",
       "french_bulldog               26 \n",
       "chesapeake_bay_retriever     23 \n",
       "miniature_pinscher           22 \n",
       "seat_belt                    21 \n",
       "siberian_husky               20 \n",
       "german_shepherd              20 \n",
       "staffordshire_bullterrier    19 \n",
       "maltese_dog                  18 \n",
       "Name: p1, dtype: int64"
      ]
     },
     "execution_count": 57,
     "metadata": {},
     "output_type": "execute_result"
    }
   ],
   "source": [
    "archive_tw_clean.p1.value_counts().head(20)"
   ]
  },
  {
   "cell_type": "markdown",
   "metadata": {},
   "source": [
    ">**Define**\n",
    "> - Replace the dog name 'A' with np.nan "
   ]
  },
  {
   "cell_type": "markdown",
   "metadata": {},
   "source": [
    ">**Code** "
   ]
  },
  {
   "cell_type": "code",
   "execution_count": 58,
   "metadata": {},
   "outputs": [],
   "source": [
    "#replace the value 'None' with NaN (missing value)\n",
    "archive_tw_clean =  archive_tw_clean.replace('a', np.nan)"
   ]
  },
  {
   "cell_type": "markdown",
   "metadata": {},
   "source": [
    ">**Test**"
   ]
  },
  {
   "cell_type": "code",
   "execution_count": 73,
   "metadata": {},
   "outputs": [
    {
     "data": {
      "text/plain": [
       "Charlie    11\n",
       "Lucy       11\n",
       "Oliver     10\n",
       "Cooper     10\n",
       "Penny      9 \n",
       "Tucker     9 \n",
       "Lola       8 \n",
       "Sadie      8 \n",
       "Winston    8 \n",
       "Toby       7 \n",
       "Daisy      7 \n",
       "Bailey     6 \n",
       "Bella      6 \n",
       "Bo         6 \n",
       "Jax        6 \n",
       "Oscar      6 \n",
       "Koda       6 \n",
       "Stanley    6 \n",
       "Bentley    5 \n",
       "Dave       5 \n",
       "Name: name, dtype: int64"
      ]
     },
     "execution_count": 73,
     "metadata": {},
     "output_type": "execute_result"
    }
   ],
   "source": [
    "#replace the value 'None' with NaN (missing value)\n",
    "archive_tw_clean.name.value_counts().head(20)"
   ]
  },
  {
   "cell_type": "markdown",
   "metadata": {},
   "source": [
    ">**Define**\n",
    "> - Replace the dog name 'The' with np.nan "
   ]
  },
  {
   "cell_type": "markdown",
   "metadata": {},
   "source": [
    ">**Code**"
   ]
  },
  {
   "cell_type": "code",
   "execution_count": 70,
   "metadata": {},
   "outputs": [],
   "source": [
    "archive_tw_clean.name =  archive_tw_clean.name.replace('The', np.nan)"
   ]
  },
  {
   "cell_type": "markdown",
   "metadata": {},
   "source": [
    ">**Test**"
   ]
  },
  {
   "cell_type": "code",
   "execution_count": 74,
   "metadata": {},
   "outputs": [
    {
     "data": {
      "text/html": [
       "<div>\n",
       "<style scoped>\n",
       "    .dataframe tbody tr th:only-of-type {\n",
       "        vertical-align: middle;\n",
       "    }\n",
       "\n",
       "    .dataframe tbody tr th {\n",
       "        vertical-align: top;\n",
       "    }\n",
       "\n",
       "    .dataframe thead th {\n",
       "        text-align: right;\n",
       "    }\n",
       "</style>\n",
       "<table border=\"1\" class=\"dataframe\">\n",
       "  <thead>\n",
       "    <tr style=\"text-align: right;\">\n",
       "      <th></th>\n",
       "      <th>tweet_id</th>\n",
       "      <th>timestamp</th>\n",
       "      <th>source</th>\n",
       "      <th>text</th>\n",
       "      <th>expanded_urls</th>\n",
       "      <th>rating_numerator</th>\n",
       "      <th>rating_denominator</th>\n",
       "      <th>name</th>\n",
       "      <th>doggo</th>\n",
       "      <th>floofer</th>\n",
       "      <th>...</th>\n",
       "      <th>puppo</th>\n",
       "      <th>url_from_text</th>\n",
       "      <th>retweet_count</th>\n",
       "      <th>favorite_count</th>\n",
       "      <th>jpg_url</th>\n",
       "      <th>img_num</th>\n",
       "      <th>p1</th>\n",
       "      <th>p1_conf</th>\n",
       "      <th>p1_dog</th>\n",
       "      <th>normalized_ratings</th>\n",
       "    </tr>\n",
       "  </thead>\n",
       "  <tbody>\n",
       "  </tbody>\n",
       "</table>\n",
       "<p>0 rows × 21 columns</p>\n",
       "</div>"
      ],
      "text/plain": [
       "Empty DataFrame\n",
       "Columns: [tweet_id, timestamp, source, text, expanded_urls, rating_numerator, rating_denominator, name, doggo, floofer, pupper, puppo, url_from_text, retweet_count, favorite_count, jpg_url, img_num, p1, p1_conf, p1_dog, normalized_ratings]\n",
       "Index: []\n",
       "\n",
       "[0 rows x 21 columns]"
      ]
     },
     "execution_count": 74,
     "metadata": {},
     "output_type": "execute_result"
    }
   ],
   "source": [
    "test_for_name = archive_tw_clean[archive_tw_clean.name == 'The']\n",
    "test_for_name"
   ]
  },
  {
   "cell_type": "markdown",
   "metadata": {},
   "source": [
    ">**Define**\n",
    "> - Replace non-dog names in name column such as 'a', 'such', 'the', 'just', 'getting' etc. These cases are in lowercase, whereas a proper dog name is capitalized. Then change 'None' to np.nan. \n",
    "\n"
   ]
  },
  {
   "cell_type": "markdown",
   "metadata": {},
   "source": [
    ">**Code**"
   ]
  },
  {
   "cell_type": "code",
   "execution_count": 62,
   "metadata": {},
   "outputs": [],
   "source": [
    "archive_tw_clean.name = archive_tw_clean.name.str.replace('^[a-z]+', 'None')"
   ]
  },
  {
   "cell_type": "code",
   "execution_count": 63,
   "metadata": {},
   "outputs": [],
   "source": [
    "#change 'None' to np.nan\n",
    "archive_tw_clean.name =  archive_tw_clean.name.replace('None', np.nan)"
   ]
  },
  {
   "cell_type": "markdown",
   "metadata": {},
   "source": [
    ">**Test**"
   ]
  },
  {
   "cell_type": "code",
   "execution_count": 76,
   "metadata": {},
   "outputs": [
    {
     "data": {
      "text/plain": [
       "Charlie    11\n",
       "Lucy       11\n",
       "Oliver     10\n",
       "Cooper     10\n",
       "Penny      9 \n",
       "Tucker     9 \n",
       "Lola       8 \n",
       "Sadie      8 \n",
       "Winston    8 \n",
       "Toby       7 \n",
       "Name: name, dtype: int64"
      ]
     },
     "execution_count": 76,
     "metadata": {},
     "output_type": "execute_result"
    }
   ],
   "source": [
    "archive_tw_clean.name.value_counts().head(10)"
   ]
  },
  {
   "cell_type": "code",
   "execution_count": 65,
   "metadata": {},
   "outputs": [
    {
     "data": {
      "text/html": [
       "<div>\n",
       "<style scoped>\n",
       "    .dataframe tbody tr th:only-of-type {\n",
       "        vertical-align: middle;\n",
       "    }\n",
       "\n",
       "    .dataframe tbody tr th {\n",
       "        vertical-align: top;\n",
       "    }\n",
       "\n",
       "    .dataframe thead th {\n",
       "        text-align: right;\n",
       "    }\n",
       "</style>\n",
       "<table border=\"1\" class=\"dataframe\">\n",
       "  <thead>\n",
       "    <tr style=\"text-align: right;\">\n",
       "      <th></th>\n",
       "      <th>tweet_id</th>\n",
       "      <th>timestamp</th>\n",
       "      <th>source</th>\n",
       "      <th>text</th>\n",
       "      <th>expanded_urls</th>\n",
       "      <th>rating_numerator</th>\n",
       "      <th>rating_denominator</th>\n",
       "      <th>name</th>\n",
       "      <th>doggo</th>\n",
       "      <th>floofer</th>\n",
       "      <th>pupper</th>\n",
       "      <th>puppo</th>\n",
       "      <th>url_from_text</th>\n",
       "      <th>retweet_count</th>\n",
       "      <th>favorite_count</th>\n",
       "      <th>jpg_url</th>\n",
       "      <th>img_num</th>\n",
       "      <th>p1</th>\n",
       "      <th>p1_conf</th>\n",
       "      <th>p1_dog</th>\n",
       "    </tr>\n",
       "  </thead>\n",
       "  <tbody>\n",
       "  </tbody>\n",
       "</table>\n",
       "</div>"
      ],
      "text/plain": [
       "Empty DataFrame\n",
       "Columns: [tweet_id, timestamp, source, text, expanded_urls, rating_numerator, rating_denominator, name, doggo, floofer, pupper, puppo, url_from_text, retweet_count, favorite_count, jpg_url, img_num, p1, p1_conf, p1_dog]\n",
       "Index: []"
      ]
     },
     "execution_count": 65,
     "metadata": {},
     "output_type": "execute_result"
    }
   ],
   "source": [
    "test_for_name_2 = archive_tw_clean[archive_tw_clean.name == 'an']\n",
    "test_for_name_2"
   ]
  },
  {
   "cell_type": "markdown",
   "metadata": {},
   "source": [
    ">**Define**\n",
    "> - Standarization of the ratings into a new column, due to the different denominators."
   ]
  },
  {
   "cell_type": "markdown",
   "metadata": {},
   "source": [
    ">**Code**"
   ]
  },
  {
   "cell_type": "code",
   "execution_count": 77,
   "metadata": {},
   "outputs": [],
   "source": [
    "# Create new normalized rating column\n",
    "archive_tw_clean['normalized_ratings'] = archive_tw_clean['rating_numerator'] / archive_tw_clean['rating_denominator']"
   ]
  },
  {
   "cell_type": "markdown",
   "metadata": {},
   "source": [
    ">**Test**"
   ]
  },
  {
   "cell_type": "code",
   "execution_count": 98,
   "metadata": {},
   "outputs": [
    {
     "data": {
      "text/html": [
       "<div>\n",
       "<style scoped>\n",
       "    .dataframe tbody tr th:only-of-type {\n",
       "        vertical-align: middle;\n",
       "    }\n",
       "\n",
       "    .dataframe tbody tr th {\n",
       "        vertical-align: top;\n",
       "    }\n",
       "\n",
       "    .dataframe thead th {\n",
       "        text-align: right;\n",
       "    }\n",
       "</style>\n",
       "<table border=\"1\" class=\"dataframe\">\n",
       "  <thead>\n",
       "    <tr style=\"text-align: right;\">\n",
       "      <th></th>\n",
       "      <th>tweet_id</th>\n",
       "      <th>timestamp</th>\n",
       "      <th>source</th>\n",
       "      <th>text</th>\n",
       "      <th>expanded_urls</th>\n",
       "      <th>rating_numerator</th>\n",
       "      <th>rating_denominator</th>\n",
       "      <th>name</th>\n",
       "      <th>doggo</th>\n",
       "      <th>floofer</th>\n",
       "      <th>...</th>\n",
       "      <th>url_from_text</th>\n",
       "      <th>retweet_count</th>\n",
       "      <th>favorite_count</th>\n",
       "      <th>jpg_url</th>\n",
       "      <th>img_num</th>\n",
       "      <th>p1</th>\n",
       "      <th>p1_conf</th>\n",
       "      <th>p1_dog</th>\n",
       "      <th>normalized_ratings</th>\n",
       "      <th>canne_stage</th>\n",
       "    </tr>\n",
       "  </thead>\n",
       "  <tbody>\n",
       "    <tr>\n",
       "      <th>0</th>\n",
       "      <td>892420643555336193</td>\n",
       "      <td>2017-08-01 16:23:56</td>\n",
       "      <td>&lt;a href=\"http://twitter.com/download/iphone\" rel=\"nofollow\"&gt;Twitter for iPhone&lt;/a&gt;</td>\n",
       "      <td>This is Phineas. He's a mystical boy. Only ever appears in the hole of a donut. 13/10 https://t.co/MgUWQ76dJU</td>\n",
       "      <td>https://twitter.com/dog_rates/status/892420643555336193/photo/1</td>\n",
       "      <td>13</td>\n",
       "      <td>10</td>\n",
       "      <td>Phineas</td>\n",
       "      <td></td>\n",
       "      <td></td>\n",
       "      <td>...</td>\n",
       "      <td>https://t.co/MgUWQ76dJU</td>\n",
       "      <td>7370.0</td>\n",
       "      <td>35047.0</td>\n",
       "      <td>https://pbs.twimg.com/media/DGKD1-bXoAAIAUK.jpg</td>\n",
       "      <td>1.0</td>\n",
       "      <td>orange</td>\n",
       "      <td>0.097049</td>\n",
       "      <td>False</td>\n",
       "      <td>1.3</td>\n",
       "      <td></td>\n",
       "    </tr>\n",
       "    <tr>\n",
       "      <th>1</th>\n",
       "      <td>892177421306343426</td>\n",
       "      <td>2017-08-01 00:17:27</td>\n",
       "      <td>&lt;a href=\"http://twitter.com/download/iphone\" rel=\"nofollow\"&gt;Twitter for iPhone&lt;/a&gt;</td>\n",
       "      <td>This is Tilly. She's just checking pup on you. Hopes you're doing ok. If not, she's available for pats, snugs, boops, the whole bit. 13/10 https://t.co/0Xxu71qeIV</td>\n",
       "      <td>https://twitter.com/dog_rates/status/892177421306343426/photo/1</td>\n",
       "      <td>13</td>\n",
       "      <td>10</td>\n",
       "      <td>Tilly</td>\n",
       "      <td></td>\n",
       "      <td></td>\n",
       "      <td>...</td>\n",
       "      <td>https://t.co/0Xxu71qeIV</td>\n",
       "      <td>5493.0</td>\n",
       "      <td>30346.0</td>\n",
       "      <td>https://pbs.twimg.com/media/DGGmoV4XsAAUL6n.jpg</td>\n",
       "      <td>1.0</td>\n",
       "      <td>chihuahua</td>\n",
       "      <td>0.323581</td>\n",
       "      <td>True</td>\n",
       "      <td>1.3</td>\n",
       "      <td></td>\n",
       "    </tr>\n",
       "  </tbody>\n",
       "</table>\n",
       "<p>2 rows × 22 columns</p>\n",
       "</div>"
      ],
      "text/plain": [
       "             tweet_id           timestamp  \\\n",
       "0  892420643555336193 2017-08-01 16:23:56   \n",
       "1  892177421306343426 2017-08-01 00:17:27   \n",
       "\n",
       "                                                                               source  \\\n",
       "0  <a href=\"http://twitter.com/download/iphone\" rel=\"nofollow\">Twitter for iPhone</a>   \n",
       "1  <a href=\"http://twitter.com/download/iphone\" rel=\"nofollow\">Twitter for iPhone</a>   \n",
       "\n",
       "                                                                                                                                                                 text  \\\n",
       "0  This is Phineas. He's a mystical boy. Only ever appears in the hole of a donut. 13/10 https://t.co/MgUWQ76dJU                                                        \n",
       "1  This is Tilly. She's just checking pup on you. Hopes you're doing ok. If not, she's available for pats, snugs, boops, the whole bit. 13/10 https://t.co/0Xxu71qeIV   \n",
       "\n",
       "                                                     expanded_urls  \\\n",
       "0  https://twitter.com/dog_rates/status/892420643555336193/photo/1   \n",
       "1  https://twitter.com/dog_rates/status/892177421306343426/photo/1   \n",
       "\n",
       "   rating_numerator  rating_denominator     name doggo floofer     ...      \\\n",
       "0  13                10                  Phineas                   ...       \n",
       "1  13                10                  Tilly                     ...       \n",
       "\n",
       "              url_from_text retweet_count favorite_count  \\\n",
       "0   https://t.co/MgUWQ76dJU  7370.0        35047.0         \n",
       "1   https://t.co/0Xxu71qeIV  5493.0        30346.0         \n",
       "\n",
       "                                           jpg_url  img_num         p1  \\\n",
       "0  https://pbs.twimg.com/media/DGKD1-bXoAAIAUK.jpg  1.0      orange      \n",
       "1  https://pbs.twimg.com/media/DGGmoV4XsAAUL6n.jpg  1.0      chihuahua   \n",
       "\n",
       "    p1_conf p1_dog  normalized_ratings canne_stage  \n",
       "0  0.097049  False  1.3                             \n",
       "1  0.323581  True   1.3                             \n",
       "\n",
       "[2 rows x 22 columns]"
      ]
     },
     "execution_count": 98,
     "metadata": {},
     "output_type": "execute_result"
    }
   ],
   "source": [
    "archive_tw_clean.head(2)"
   ]
  },
  {
   "cell_type": "markdown",
   "metadata": {},
   "source": [
    ">**Define** (tidiness issue # 1)\n",
    "- Combine doggo, floofer, pupper, puppo columns should be combined into a single column."
   ]
  },
  {
   "cell_type": "markdown",
   "metadata": {},
   "source": [
    ">**Code**"
   ]
  },
  {
   "cell_type": "code",
   "execution_count": 80,
   "metadata": {},
   "outputs": [],
   "source": [
    "# First replace None in stage columns with empty string as follows.\n",
    "archive_tw_clean.doggo.replace(np.nan, '', inplace=True)  # Like this do replacements for all four stages\n",
    "archive_tw_clean.doggo.replace('None', '', inplace=True)"
   ]
  },
  {
   "cell_type": "code",
   "execution_count": 84,
   "metadata": {},
   "outputs": [],
   "source": [
    "# First replace None in stage columns with empty string as follows.\n",
    "archive_tw_clean.floofer.replace(np.nan, '', inplace=True)  # Like this do replacements for all four stages\n",
    "archive_tw_clean.floofer.replace('None', '', inplace=True)"
   ]
  },
  {
   "cell_type": "code",
   "execution_count": 85,
   "metadata": {},
   "outputs": [],
   "source": [
    "# First replace None in stage columns with empty string as follows.\n",
    "archive_tw_clean.puppo.replace(np.nan, '', inplace=True)  # Like this do replacements for all four stages\n",
    "archive_tw_clean.puppo.replace('None', '', inplace=True)"
   ]
  },
  {
   "cell_type": "code",
   "execution_count": 88,
   "metadata": {},
   "outputs": [],
   "source": [
    "# First replace None in stage columns with empty string as follows.\n",
    "archive_tw_clean.pupper.replace(np.nan, '', inplace=True)  # Like this do replacements for all four stages\n",
    "archive_tw_clean.pupper.replace('None', '', inplace=True)"
   ]
  },
  {
   "cell_type": "code",
   "execution_count": 90,
   "metadata": {},
   "outputs": [],
   "source": [
    "# Then combine stage columns.\n",
    "archive_tw_clean['canne_stage'] = archive_tw_clean.doggo + archive_tw_clean.floofer + archive_tw_clean.pupper + archive_tw_clean.puppo"
   ]
  },
  {
   "cell_type": "code",
   "execution_count": 101,
   "metadata": {},
   "outputs": [],
   "source": [
    "# Then format entries with multiple dog stages which appeared like doggopupper.\n",
    "archive_tw_clean.loc[archive_tw_clean.canne_stage == 'doggopupper', 'canne_stage'] = 'doggo,pupper' \n",
    "archive_tw_clean.loc[archive_tw_clean.canne_stage == 'doggopuppo', 'canne_stage'] = 'doggo,puppo' \n",
    "archive_tw_clean.loc[archive_tw_clean.canne_stage == 'doggofloofer', 'canne_stage'] = 'doggo,floofer'"
   ]
  },
  {
   "cell_type": "markdown",
   "metadata": {},
   "source": [
    ">**Test**"
   ]
  },
  {
   "cell_type": "code",
   "execution_count": 107,
   "metadata": {},
   "outputs": [
    {
     "data": {
      "text/plain": [
       "pupper           224\n",
       "doggo            75 \n",
       "puppo            24 \n",
       "doggo,pupper     10 \n",
       "floofer          9  \n",
       "doggo,puppo      1  \n",
       "doggo,floofer    1  \n",
       "Name: canne_stage, dtype: int64"
      ]
     },
     "execution_count": 107,
     "metadata": {},
     "output_type": "execute_result"
    }
   ],
   "source": [
    "archive_tw_clean.canne_stage.value_counts()"
   ]
  },
  {
   "cell_type": "markdown",
   "metadata": {},
   "source": [
    ">**Double Check**\n",
    "- Fix missing values that might have been created during last process"
   ]
  },
  {
   "cell_type": "code",
   "execution_count": 106,
   "metadata": {},
   "outputs": [],
   "source": [
    "#replace the value 'None' with NaN (missing value)\n",
    "archive_tw_clean =  archive_tw_clean.replace('', np.nan)\n",
    "archive_tw_clean =  archive_tw_clean.replace('None', np.nan)\n",
    "archive_tw_clean =  archive_tw_clean.replace(' ', np.nan)"
   ]
  },
  {
   "cell_type": "code",
   "execution_count": 109,
   "metadata": {},
   "outputs": [
    {
     "data": {
      "text/plain": [
       "1891    NaN   \n",
       "1646    pupper\n",
       "119     pupper\n",
       "325     doggo \n",
       "248     NaN   \n",
       "861     NaN   \n",
       "1559    pupper\n",
       "1150    NaN   \n",
       "140     NaN   \n",
       "1555    NaN   \n",
       "Name: canne_stage, dtype: object"
      ]
     },
     "execution_count": 109,
     "metadata": {},
     "output_type": "execute_result"
    }
   ],
   "source": [
    "archive_tw_clean.canne_stage.sample(10)"
   ]
  },
  {
   "cell_type": "markdown",
   "metadata": {},
   "source": [
    "#### Saving data after cleaning: "
   ]
  },
  {
   "cell_type": "code",
   "execution_count": null,
   "metadata": {},
   "outputs": [],
   "source": [
    "#save master data frame\n",
    "archive_tw_clean.to_csv('twitter_archive_master.csv', index=False)"
   ]
  },
  {
   "cell_type": "markdown",
   "metadata": {},
   "source": [
    "#  Data Visualization and Analysis"
   ]
  },
  {
   "cell_type": "code",
   "execution_count": 5,
   "metadata": {},
   "outputs": [],
   "source": [
    "df_master = pd.read_csv('twitter_archive_master.csv')"
   ]
  },
  {
   "cell_type": "code",
   "execution_count": 6,
   "metadata": {},
   "outputs": [
    {
     "data": {
      "text/html": [
       "<div>\n",
       "<style scoped>\n",
       "    .dataframe tbody tr th:only-of-type {\n",
       "        vertical-align: middle;\n",
       "    }\n",
       "\n",
       "    .dataframe tbody tr th {\n",
       "        vertical-align: top;\n",
       "    }\n",
       "\n",
       "    .dataframe thead th {\n",
       "        text-align: right;\n",
       "    }\n",
       "</style>\n",
       "<table border=\"1\" class=\"dataframe\">\n",
       "  <thead>\n",
       "    <tr style=\"text-align: right;\">\n",
       "      <th></th>\n",
       "      <th>tweet_id</th>\n",
       "      <th>timestamp</th>\n",
       "      <th>source</th>\n",
       "      <th>text</th>\n",
       "      <th>expanded_urls</th>\n",
       "      <th>rating_numerator</th>\n",
       "      <th>rating_denominator</th>\n",
       "      <th>name</th>\n",
       "      <th>doggo</th>\n",
       "      <th>floofer</th>\n",
       "      <th>...</th>\n",
       "      <th>url_from_text</th>\n",
       "      <th>retweet_count</th>\n",
       "      <th>favorite_count</th>\n",
       "      <th>jpg_url</th>\n",
       "      <th>img_num</th>\n",
       "      <th>p1</th>\n",
       "      <th>p1_conf</th>\n",
       "      <th>p1_dog</th>\n",
       "      <th>normalized_ratings</th>\n",
       "      <th>canne_stage</th>\n",
       "    </tr>\n",
       "  </thead>\n",
       "  <tbody>\n",
       "    <tr>\n",
       "      <th>1237</th>\n",
       "      <td>698635131305795584</td>\n",
       "      <td>2016-02-13 22:29:29</td>\n",
       "      <td>&lt;a href=\"http://twitter.com/download/iphone\" r...</td>\n",
       "      <td>Here we are witnessing five Guatemalan Birch F...</td>\n",
       "      <td>https://twitter.com/dog_rates/status/698635131...</td>\n",
       "      <td>12</td>\n",
       "      <td>10</td>\n",
       "      <td>NaN</td>\n",
       "      <td>NaN</td>\n",
       "      <td>NaN</td>\n",
       "      <td>...</td>\n",
       "      <td>https://t.co/rb8nzVNh7F</td>\n",
       "      <td>328.0</td>\n",
       "      <td>1254.0</td>\n",
       "      <td>https://pbs.twimg.com/ext_tw_video_thumb/69863...</td>\n",
       "      <td>1.0</td>\n",
       "      <td>samoyed</td>\n",
       "      <td>0.158464</td>\n",
       "      <td>True</td>\n",
       "      <td>1.2</td>\n",
       "      <td>NaN</td>\n",
       "    </tr>\n",
       "    <tr>\n",
       "      <th>848</th>\n",
       "      <td>746369468511756288</td>\n",
       "      <td>2016-06-24 15:48:42</td>\n",
       "      <td>&lt;a href=\"http://twitter.com/download/iphone\" r...</td>\n",
       "      <td>This is an Iraqi Speed Kangaroo. It is not a d...</td>\n",
       "      <td>https://twitter.com/dog_rates/status/746369468...</td>\n",
       "      <td>9</td>\n",
       "      <td>10</td>\n",
       "      <td>NaN</td>\n",
       "      <td>NaN</td>\n",
       "      <td>NaN</td>\n",
       "      <td>...</td>\n",
       "      <td>https://t.co/5qpBTTpgUt</td>\n",
       "      <td>1568.0</td>\n",
       "      <td>5993.0</td>\n",
       "      <td>https://pbs.twimg.com/media/ClujESVXEAA4uH8.jpg</td>\n",
       "      <td>1.0</td>\n",
       "      <td>german_shepherd</td>\n",
       "      <td>0.622957</td>\n",
       "      <td>True</td>\n",
       "      <td>0.9</td>\n",
       "      <td>NaN</td>\n",
       "    </tr>\n",
       "    <tr>\n",
       "      <th>1281</th>\n",
       "      <td>695051054296211456</td>\n",
       "      <td>2016-02-04 01:07:39</td>\n",
       "      <td>&lt;a href=\"http://twitter.com/download/iphone\" r...</td>\n",
       "      <td>Meet Brian (pronounced \"Kirk\"). He's not amuse...</td>\n",
       "      <td>https://twitter.com/dog_rates/status/695051054...</td>\n",
       "      <td>6</td>\n",
       "      <td>10</td>\n",
       "      <td>Brian</td>\n",
       "      <td>NaN</td>\n",
       "      <td>NaN</td>\n",
       "      <td>...</td>\n",
       "      <td>https://t.co/vityMwPKKi</td>\n",
       "      <td>764.0</td>\n",
       "      <td>2559.0</td>\n",
       "      <td>https://pbs.twimg.com/media/CaVRP4GWwAERC0v.jpg</td>\n",
       "      <td>1.0</td>\n",
       "      <td>boston_bull</td>\n",
       "      <td>0.761454</td>\n",
       "      <td>True</td>\n",
       "      <td>0.6</td>\n",
       "      <td>NaN</td>\n",
       "    </tr>\n",
       "  </tbody>\n",
       "</table>\n",
       "<p>3 rows × 22 columns</p>\n",
       "</div>"
      ],
      "text/plain": [
       "                tweet_id            timestamp  \\\n",
       "1237  698635131305795584  2016-02-13 22:29:29   \n",
       "848   746369468511756288  2016-06-24 15:48:42   \n",
       "1281  695051054296211456  2016-02-04 01:07:39   \n",
       "\n",
       "                                                 source  \\\n",
       "1237  <a href=\"http://twitter.com/download/iphone\" r...   \n",
       "848   <a href=\"http://twitter.com/download/iphone\" r...   \n",
       "1281  <a href=\"http://twitter.com/download/iphone\" r...   \n",
       "\n",
       "                                                   text  \\\n",
       "1237  Here we are witnessing five Guatemalan Birch F...   \n",
       "848   This is an Iraqi Speed Kangaroo. It is not a d...   \n",
       "1281  Meet Brian (pronounced \"Kirk\"). He's not amuse...   \n",
       "\n",
       "                                          expanded_urls  rating_numerator  \\\n",
       "1237  https://twitter.com/dog_rates/status/698635131...                12   \n",
       "848   https://twitter.com/dog_rates/status/746369468...                 9   \n",
       "1281  https://twitter.com/dog_rates/status/695051054...                 6   \n",
       "\n",
       "      rating_denominator   name doggo floofer     ...      \\\n",
       "1237                  10    NaN   NaN     NaN     ...       \n",
       "848                   10    NaN   NaN     NaN     ...       \n",
       "1281                  10  Brian   NaN     NaN     ...       \n",
       "\n",
       "                 url_from_text retweet_count favorite_count  \\\n",
       "1237   https://t.co/rb8nzVNh7F         328.0         1254.0   \n",
       "848    https://t.co/5qpBTTpgUt        1568.0         5993.0   \n",
       "1281   https://t.co/vityMwPKKi         764.0         2559.0   \n",
       "\n",
       "                                                jpg_url  img_num  \\\n",
       "1237  https://pbs.twimg.com/ext_tw_video_thumb/69863...      1.0   \n",
       "848     https://pbs.twimg.com/media/ClujESVXEAA4uH8.jpg      1.0   \n",
       "1281    https://pbs.twimg.com/media/CaVRP4GWwAERC0v.jpg      1.0   \n",
       "\n",
       "                   p1   p1_conf p1_dog  normalized_ratings canne_stage  \n",
       "1237          samoyed  0.158464   True                 1.2         NaN  \n",
       "848   german_shepherd  0.622957   True                 0.9         NaN  \n",
       "1281      boston_bull  0.761454   True                 0.6         NaN  \n",
       "\n",
       "[3 rows x 22 columns]"
      ]
     },
     "execution_count": 6,
     "metadata": {},
     "output_type": "execute_result"
    }
   ],
   "source": [
    "df_master.sample(3)"
   ]
  },
  {
   "cell_type": "code",
   "execution_count": 7,
   "metadata": {},
   "outputs": [
    {
     "data": {
      "text/plain": [
       "(2175, 22)"
      ]
     },
     "execution_count": 7,
     "metadata": {},
     "output_type": "execute_result"
    }
   ],
   "source": [
    "df_master.shape"
   ]
  },
  {
   "cell_type": "markdown",
   "metadata": {},
   "source": [
    "> - Remaming funny named columns"
   ]
  },
  {
   "cell_type": "code",
   "execution_count": 21,
   "metadata": {},
   "outputs": [],
   "source": [
    "df_master.rename(columns={'p1':'predicted_breed', 'p1_dog':'existing_breed'}, inplace=True)"
   ]
  },
  {
   "cell_type": "code",
   "execution_count": 22,
   "metadata": {},
   "outputs": [
    {
     "name": "stdout",
     "output_type": "stream",
     "text": [
      "<class 'pandas.core.frame.DataFrame'>\n",
      "RangeIndex: 2175 entries, 0 to 2174\n",
      "Data columns (total 22 columns):\n",
      "tweet_id              2175 non-null int64\n",
      "timestamp             2175 non-null object\n",
      "source                2175 non-null object\n",
      "text                  2175 non-null object\n",
      "expanded_urls         2117 non-null object\n",
      "rating_numerator      2175 non-null int64\n",
      "rating_denominator    2175 non-null int64\n",
      "name                  1391 non-null object\n",
      "doggo                 87 non-null object\n",
      "floofer               10 non-null object\n",
      "pupper                234 non-null object\n",
      "puppo                 25 non-null object\n",
      "url_from_text         2175 non-null object\n",
      "retweet_count         2168 non-null float64\n",
      "favorite_count        2168 non-null float64\n",
      "jpg_url               1994 non-null object\n",
      "img_num               1994 non-null float64\n",
      "predicted_breed       1994 non-null object\n",
      "p1_conf               1994 non-null float64\n",
      "existing_breed        1994 non-null object\n",
      "normalized_ratings    2175 non-null float64\n",
      "canne_stage           344 non-null object\n",
      "dtypes: float64(5), int64(3), object(14)\n",
      "memory usage: 373.9+ KB\n"
     ]
    }
   ],
   "source": [
    "df_master.info()"
   ]
  },
  {
   "cell_type": "markdown",
   "metadata": {},
   "source": [
    "> ## Most common dog breeds predicted by the algorithim "
   ]
  },
  {
   "cell_type": "markdown",
   "metadata": {},
   "source": [
    "- As expected, the most popular dog breed is Golden Retriever. Number two corresponds to labrador_retriever, though we don´t now its color: either black, yellow or brown. "
   ]
  },
  {
   "cell_type": "code",
   "execution_count": 35,
   "metadata": {},
   "outputs": [
    {
     "data": {
      "text/plain": [
       "golden_retriever      139\n",
       "labrador_retriever     95\n",
       "pembroke               88\n",
       "chihuahua              79\n",
       "pug                    54\n",
       "chow                   41\n",
       "samoyed                40\n",
       "toy_poodle             38\n",
       "pomeranian             38\n",
       "malamute               29\n",
       "Name: predicted_breed, dtype: int64"
      ]
     },
     "execution_count": 35,
     "metadata": {},
     "output_type": "execute_result"
    }
   ],
   "source": [
    "df_master['predicted_breed'].value_counts(ascending = False).head(10)"
   ]
  },
  {
   "cell_type": "code",
   "execution_count": 24,
   "metadata": {},
   "outputs": [
    {
     "data": {
      "text/plain": [
       "375"
      ]
     },
     "execution_count": 24,
     "metadata": {},
     "output_type": "execute_result"
    }
   ],
   "source": [
    "breed = df_master['predicted_breed'].unique()\n",
    "len(breed)"
   ]
  },
  {
   "cell_type": "code",
   "execution_count": 173,
   "metadata": {},
   "outputs": [
    {
     "data": {
      "image/png": "[encoded data removed]",
      "text/plain": [
       "<matplotlib.figure.Figure at 0x7fc43073d898>"
      ]
     },
     "metadata": {
      "needs_background": "light"
     },
     "output_type": "display_data"
    }
   ],
   "source": [
    "df_master.predicted_breed.value_counts().head(10).plot(kind='bar', figsize=(12,8), grid=True, fontsize = 15)\n",
    "plt.title('10 most predicted dog breeds', fontsize=20)\n",
    "plt.ylabel('Number of dogs predicted', fontsize=18)\n",
    "plt.xlabel('Dog breeds', fontsize=10)\n",
    "plt.savefig('dogbreeds.pdf')"
   ]
  },
  {
   "cell_type": "markdown",
   "metadata": {},
   "source": [
    "> ## 10 Most common dog names"
   ]
  },
  {
   "cell_type": "markdown",
   "metadata": {},
   "source": [
    "- The most popular dog name is Charlie (no wonder why nobody is named Charlie nowadays). Interestingly, Penny takes up the rth position. My poppa is called Penny. "
   ]
  },
  {
   "cell_type": "code",
   "execution_count": 18,
   "metadata": {},
   "outputs": [
    {
     "data": {
      "text/plain": [
       "931"
      ]
     },
     "execution_count": 18,
     "metadata": {},
     "output_type": "execute_result"
    }
   ],
   "source": [
    "#number of unique names\n",
    "names = df_master['name'].unique()\n",
    "len(names)"
   ]
  },
  {
   "cell_type": "code",
   "execution_count": 32,
   "metadata": {},
   "outputs": [
    {
     "data": {
      "text/plain": [
       "Lucy       11\n",
       "Charlie    11\n",
       "Cooper     10\n",
       "Oliver     10\n",
       "Tucker      9\n",
       "Penny       9\n",
       "Sadie       8\n",
       "Winston     8\n",
       "Lola        8\n",
       "Toby        7\n",
       "Name: name, dtype: int64"
      ]
     },
     "execution_count": 32,
     "metadata": {},
     "output_type": "execute_result"
    }
   ],
   "source": [
    "# top ten names\n",
    "df_master['name'].value_counts(ascending = False).head(10)"
   ]
  },
  {
   "cell_type": "code",
   "execution_count": 163,
   "metadata": {},
   "outputs": [
    {
     "data": {
      "image/png": "[encoded data removed]",
      "text/plain": [
       "<matplotlib.figure.Figure at 0x7fc4343c5390>"
      ]
     },
     "metadata": {
      "needs_background": "light"
     },
     "output_type": "display_data"
    }
   ],
   "source": [
    "df_master.name.value_counts().head(10).plot(kind='bar', figsize=(12,8), grid=True, fontsize = 15)\n",
    "plt.title('10 most popular dog names', fontsize=20)\n",
    "plt.ylabel('Number of names', fontsize=18)\n",
    "plt.xlabel('Names', fontsize=18)\n",
    "plt.savefig('dognames.pdf')"
   ]
  },
  {
   "cell_type": "markdown",
   "metadata": {},
   "source": [
    "> ## 10 most 'fake' predicted dog breeds with the highest average rating; "
   ]
  },
  {
   "cell_type": "code",
   "execution_count": null,
   "metadata": {},
   "outputs": [],
   "source": [
    "> - The algorithm predicted also weird stuff, nothing like dog breeds; this are the fake dog breed with the highest scores. Interestingly enough, dogs with high ratings weren´t predicted correctly. (Bow tie sounds like a funny name for a pet, though)"
   ]
  },
  {
   "cell_type": "code",
   "execution_count": 146,
   "metadata": {},
   "outputs": [],
   "source": [
    "# mean rating according to breeds\n",
    "breed_average = df_master.groupby('predicted_breed')[['normalized_ratings']].mean()\\\n",
    "    .reset_index().sort_values(['normalized_ratings'], ascending=False).head(5)"
   ]
  },
  {
   "cell_type": "code",
   "execution_count": 171,
   "metadata": {},
   "outputs": [
    {
     "data": {
      "image/png": "[encoded data removed]",
      "text/plain": [
       "<matplotlib.figure.Figure at 0x7fc43075ff98>"
      ]
     },
     "metadata": {
      "needs_background": "light"
     },
     "output_type": "display_data"
    }
   ],
   "source": [
    "plt.barh(list(breed_average['predicted_breed']),list(breed_average['normalized_ratings']), color=\"tab:blue\")\n",
    "plt.xlabel('Normalized Rating', fontsize=18)\n",
    "plt.title('Top 5 FAKE Dog Breeds with Highest Average Ratings', fontsize=18 )\n",
    "plt.savefig('fake.pdf')"
   ]
  },
  {
   "cell_type": "code",
   "execution_count": null,
   "metadata": {},
   "outputs": [],
   "source": [
    "\n"
   ]
  }
 ],
 "metadata": {
  "kernelspec": {
   "display_name": "Python 3",
   "language": "python",
   "name": "python3"
  },
  "language_info": {
   "codemirror_mode": {
    "name": "ipython",
    "version": 3
   },
   "file_extension": ".py",
   "mimetype": "text/x-python",
   "name": "python",
   "nbconvert_exporter": "python",
   "pygments_lexer": "ipython3",
   "version": "3.6.3"
  }
 },
 "nbformat": 4,
 "nbformat_minor": 2
}
